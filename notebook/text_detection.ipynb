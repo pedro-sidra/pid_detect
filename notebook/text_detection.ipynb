{
 "cells": [
  {
   "cell_type": "code",
   "execution_count": 1,
   "metadata": {},
   "outputs": [],
   "source": [
    "import numpy as np \n",
    "import matplotlib.pyplot as plt \n",
    "import pytesseract\n",
    "from PIL import Image\n",
    "import cv2\n",
    "import pandas as pd \n",
    "import skimage\n",
    "from pathlib import Path"
   ]
  },
  {
   "cell_type": "markdown",
   "metadata": {},
   "source": [
    "## Dataset paths and loading"
   ]
  },
  {
   "cell_type": "code",
   "execution_count": 2,
   "metadata": {},
   "outputs": [
    {
     "name": "stderr",
     "output_type": "stream",
     "text": [
      "c:\\Users\\admpdi\\Code\\personal\\CMP197\\pid_detect\\notebook\\common.py:257: SyntaxWarning: \"is\" with a literal. Did you mean \"==\"?\n",
      "  if len(img.shape) is 3 and not isinstance(padColor, (list, tuple, np.ndarray)): # color image but only one color provided\n"
     ]
    }
   ],
   "source": [
    "from common import *"
   ]
  },
  {
   "cell_type": "markdown",
   "metadata": {},
   "source": [
    "## Load sample image"
   ]
  },
  {
   "cell_type": "code",
   "execution_count": 3,
   "metadata": {},
   "outputs": [],
   "source": [
    "im, data = load_sample(image_id=2)"
   ]
  },
  {
   "cell_type": "markdown",
   "metadata": {},
   "source": [
    "## Drawing funcs"
   ]
  },
  {
   "cell_type": "code",
   "execution_count": 4,
   "metadata": {},
   "outputs": [],
   "source": [
    "# Linetypes\n",
    "def draw_pipelines(image, data=data):\n",
    "    draw = image.copy()\n",
    "    solid_lines = np.stack(data[\"lines\"].query(\"type=='solid'\")[\"box\"])\n",
    "    dashed_lines = np.stack(data[\"lines\"].query(\"type=='dashed'\")[\"box\"])\n",
    "\n",
    "    draw = cv2.drawContours(draw, solid_lines.reshape(-1,2,2), -1, (255, 255, 0), thickness=2)\n",
    "    draw = cv2.drawContours(draw, dashed_lines.reshape(-1,2,2), -1, (0, 255, 255), thickness=2)\n",
    "    return draw\n",
    "\n",
    "def draw_symbols(image, data=data, color=None, thickness=2):\n",
    "    draw = image.copy()\n",
    "    for i, group in data[\"symbols\"].groupby(\"class\"):\n",
    "        color_ = color or (np.random.rand(3)*255).astype(np.uint8)\n",
    "        symbols = np.stack(group[\"box\"])\n",
    "        draw_rects(draw, symbols, color=[int(c) for c in color_], thickness=thickness)\n",
    "    return draw\n",
    "\n",
    "def draw_text_boxes(image, data=data, color=(255,0,255), thickness=1):\n",
    "    draw = image.copy()\n",
    "    text_boxes = np.stack(data[\"words\"][\"box\"])\n",
    "    draw_rects(draw, text_boxes, color=color, thickness=thickness)\n",
    "    return draw"
   ]
  },
  {
   "cell_type": "code",
   "execution_count": 45,
   "metadata": {},
   "outputs": [
    {
     "data": {
      "text/plain": [
       "<matplotlib.image.AxesImage at 0x250dcfbb700>"
      ]
     },
     "execution_count": 45,
     "metadata": {},
     "output_type": "execute_result"
    }
   ],
   "source": [
    "%matplotlib tk\n",
    "\n",
    "\n",
    "# im = cv2.imread(\"test.jpg\")\n",
    "draw = im.copy()\n",
    "draw = draw_pipelines(draw)\n",
    "draw = draw_symbols(draw)\n",
    "draw = draw_text_boxes(draw)\n",
    "plt.imshow(draw)"
   ]
  },
  {
   "cell_type": "markdown",
   "metadata": {},
   "source": [
    "## Text removal"
   ]
  },
  {
   "cell_type": "code",
   "execution_count": 6,
   "metadata": {},
   "outputs": [],
   "source": [
    "from craft_text_detector import (\n",
    "    load_craftnet_model,\n",
    "    load_refinenet_model,\n",
    "    get_prediction,\n",
    ")\n",
    "\n",
    "# load models\n",
    "refine_net = load_refinenet_model(cuda=True)\n",
    "craft_net = load_craftnet_model(cuda=True)"
   ]
  },
  {
   "cell_type": "code",
   "execution_count": 7,
   "metadata": {},
   "outputs": [],
   "source": [
    "window = np.array(im.shape[:2])/5\n",
    "wh, ww = window\n",
    "sh, sw = (window/2).astype(int)"
   ]
  },
  {
   "cell_type": "code",
   "execution_count": 47,
   "metadata": {},
   "outputs": [
    {
     "data": {
      "text/plain": [
       "(9, 9, 810, 1051)"
      ]
     },
     "execution_count": 47,
     "metadata": {},
     "output_type": "execute_result"
    }
   ],
   "source": [
    "from skimage.util import view_as_windows\n",
    "\n",
    "gray = cv2.cvtColor(im, cv2.COLOR_BGR2GRAY)\n",
    "t, thresh = cv2.threshold(gray, 0, 255, cv2.THRESH_BINARY_INV | cv2.THRESH_OTSU)\n",
    "t = view_as_windows(thresh, (wh,ww), (sh,sw))\n",
    "\n",
    "offsets = np.zeros((*t.shape[:2],2))\n",
    "for i in range(t.shape[0]):\n",
    "    for j in range(t.shape[1]):\n",
    "        offsets[i,j] = (sw*j, sh*i)\n",
    "\n",
    "# plt.imshow(thresh)\n",
    "# plt.plot(offsets.reshape(-1,2)[:,0],offsets.reshape(-1,2)[:,1],\"rx\")\n",
    "\n",
    "plt.imshow(t[0,0])\n",
    "t.shape"
   ]
  },
  {
   "cell_type": "code",
   "execution_count": 9,
   "metadata": {},
   "outputs": [],
   "source": [
    "outputs = []\n",
    "for window in t.reshape(-1,int(wh),int(ww)):\n",
    "    prediction_result = get_prediction(\n",
    "        image=window,\n",
    "        craft_net=craft_net,\n",
    "        refine_net=refine_net,\n",
    "        cuda=True,\n",
    "        poly=False\n",
    "    )\n",
    "    outputs.append(prediction_result)"
   ]
  },
  {
   "cell_type": "code",
   "execution_count": 48,
   "metadata": {},
   "outputs": [
    {
     "data": {
      "text/plain": [
       "<matplotlib.image.AxesImage at 0x250c67667c0>"
      ]
     },
     "execution_count": 48,
     "metadata": {},
     "output_type": "execute_result"
    }
   ],
   "source": [
    "fig, axs = plt.subplots(1,2, sharex=True, sharey=True)\n",
    "# plt.imshow(thresh)\n",
    "draw1 = cv2.cvtColor(thresh,cv2.COLOR_GRAY2RGB)\n",
    "draw2 = cv2.cvtColor(thresh,cv2.COLOR_GRAY2RGB)\n",
    "\n",
    "\n",
    "offs_boxes = []\n",
    "for offs, output in zip(offsets.reshape(-1,2), outputs):\n",
    "    if len(output[\"boxes\"])>0:\n",
    "        boxes = output[\"boxes\"] + offs\n",
    "\n",
    "        offs_boxes.append(boxes)\n",
    "        draw1 = cv2.drawContours(draw1,boxes[...,np.newaxis,:].astype(int),-1, (0,0,0), thickness=-1)\n",
    "        draw2 = cv2.drawContours(draw2,boxes[...,np.newaxis,:].astype(int),-1, (255,0,0), thickness=5)\n",
    "\n",
    "axs[0].imshow(draw1)\n",
    "axs[1].imshow(draw2)"
   ]
  },
  {
   "cell_type": "code",
   "execution_count": 11,
   "metadata": {},
   "outputs": [
    {
     "data": {
      "text/plain": [
       "<matplotlib.image.AxesImage at 0x250c315a910>"
      ]
     },
     "execution_count": 11,
     "metadata": {},
     "output_type": "execute_result"
    }
   ],
   "source": [
    "r = np.vstack(offs_boxes)[4, 0::2].astype(int)\n",
    "plt.imshow(thresh[rect_to_slice(r)])"
   ]
  },
  {
   "cell_type": "code",
   "execution_count": 12,
   "metadata": {},
   "outputs": [
    {
     "name": "stdout",
     "output_type": "stream",
     "text": [
      "522\n",
      "(153, 4)\n"
     ]
    }
   ],
   "source": [
    "boxes = np.vstack(offs_boxes)\n",
    "print(len(boxes))\n",
    "boxes_nms = non_max_suppression_fast(boxes[:,0::2].reshape(-1,4), overlapThresh=0.4)\n",
    "print(boxes_nms.shape)\n"
   ]
  },
  {
   "cell_type": "code",
   "execution_count": 14,
   "metadata": {},
   "outputs": [
    {
     "data": {
      "text/plain": [
       "<matplotlib.image.AxesImage at 0x250e18d5430>"
      ]
     },
     "execution_count": 14,
     "metadata": {},
     "output_type": "execute_result"
    }
   ],
   "source": [
    "fig, axs = plt.subplots(1,2, sharex=True, sharey=True)\n",
    "# for psm in (0, 1, 3, 4, 5, 6, 7, 11, 12, 13):\n",
    "psm = 7\n",
    "draw2 = cv2.cvtColor(thresh,cv2.COLOR_GRAY2RGB)\n",
    "text_cleanup = thresh.copy()\n",
    "\n",
    "boxes_filtered = []\n",
    "\n",
    "for i, r in enumerate(boxes_nms.reshape(-1,2,2)):\n",
    "    crop = im[rect_to_slice(r, margin=5)]\n",
    "\n",
    "    h, w = crop.shape[:2]\n",
    "\n",
    "    tall = h > 1.3*w\n",
    "    if tall:\n",
    "        crop = cv2.rotate(crop, cv2.ROTATE_90_CLOCKWISE)\n",
    "\n",
    "\n",
    "    try:\n",
    "        text = pytesseract.image_to_string(crop, config=f\"--oem 3 --psm {psm}\")\n",
    "    except pytesseract.TesseractError:\n",
    "        print(\"Oopsie from tesseract\")\n",
    "        break\n",
    "    \n",
    "    if len(text)>0:\n",
    "        alpha_percent = alpha_count(text) / len(text)\n",
    "\n",
    "        if alpha_percent < 0.4 :\n",
    "            draw_rects(draw2, r, (255,0,0), thickness=5)\n",
    "        else:\n",
    "            draw_rects(draw2, r, (0,255,0), thickness=5)\n",
    "            draw_rects(text_cleanup, r, 0, thickness=-1)\n",
    "            boxes_filtered.append(r.flatten())\n",
    "\n",
    "        cv2.putText(draw2, text.strip(), r[0], cv2.FONT_HERSHEY_PLAIN, 2, (0,255,255))\n",
    "\n",
    "\n",
    "axs[0].imshow(draw2)\n",
    "axs[1].imshow(text_cleanup)"
   ]
  },
  {
   "cell_type": "code",
   "execution_count": 20,
   "metadata": {},
   "outputs": [],
   "source": [
    "\n",
    "# boxA = (Ax1,Ay1,Ax2,Ay2)\n",
    "# boxB = (Bx1,By1,Bx2,By2)\n",
    "def boxesIntersect(boxA, boxB):\n",
    "    if boxA[0] > boxB[2]:\n",
    "        return False  # boxA is right of boxB\n",
    "    if boxB[0] > boxA[2]:\n",
    "        return False  # boxA is left of boxB\n",
    "    if boxA[3] < boxB[1]:\n",
    "        return False  # boxA is above boxB\n",
    "    if boxA[1] > boxB[3]:\n",
    "        return False  # boxA is below boxB\n",
    "    return True\n",
    "\n",
    "def getIntersectionArea(boxA, boxB):\n",
    "    xA = max(boxA[0], boxB[0])\n",
    "    yA = max(boxA[1], boxB[1])\n",
    "    xB = min(boxA[2], boxB[2])\n",
    "    yB = min(boxA[3], boxB[3])\n",
    "    # intersection area\n",
    "    return (xB - xA + 1) * (yB - yA + 1)\n",
    "\n",
    "def getUnionAreas(boxA, boxB, interArea=None):\n",
    "    area_A = getArea(boxA)\n",
    "    area_B = getArea(boxB)\n",
    "    if interArea is None:\n",
    "        interArea = getIntersectionArea(boxA, boxB)\n",
    "    return area_A + area_B - interArea\n",
    "\n",
    "def getArea(box):\n",
    "    return (box[2] - box[0] + 1) * (box[3] - box[1] + 1)\n",
    "\n",
    "def iou(boxA, boxB):\n",
    "    # if boxes dont intersect\n",
    "    if not boxesIntersect(boxA, boxB):\n",
    "        return 0\n",
    "    interArea = getIntersectionArea(boxA, boxB)\n",
    "    union = getUnionAreas(boxA, boxB, interArea=interArea)\n",
    "    # intersection over union\n",
    "    iou = interArea / union\n",
    "    assert iou >= 0\n",
    "    return iou"
   ]
  },
  {
   "cell_type": "code",
   "execution_count": 83,
   "metadata": {},
   "outputs": [
    {
     "name": "stdout",
     "output_type": "stream",
     "text": [
      "gts:\n",
      "(149, 4)\n",
      "preds:\n",
      "(137, 4)\n"
     ]
    }
   ],
   "source": [
    "gts = np.stack(data[\"words\"][\"box\"])\n",
    "preds = np.stack(boxes_filtered)\n",
    "\n",
    "h,w,_ = im.shape\n",
    "gts = gts[(gts[:,0]< w) & (gts[:,0]> 0) ]\n",
    "gts = gts[(gts[:,1]< h) & (gts[:,1]> 0) ]\n",
    "\n",
    "print(\"gts:\")\n",
    "print(gts.shape)\n",
    "print(\"preds:\")\n",
    "print(preds.shape)"
   ]
  },
  {
   "cell_type": "code",
   "execution_count": 84,
   "metadata": {},
   "outputs": [],
   "source": [
    "thresh = 0.3\n",
    "ious = np.zeros((len(preds), len(gts)))\n",
    "\n",
    "# intersections = ious > thresh"
   ]
  },
  {
   "cell_type": "code",
   "execution_count": 85,
   "metadata": {},
   "outputs": [
    {
     "name": "stdout",
     "output_type": "stream",
     "text": [
      "0.8733333333333333\n",
      "0.9562043795620438\n"
     ]
    }
   ],
   "source": [
    "for i, pred_box in enumerate(preds):\n",
    "    for j, gt_box in enumerate(gts):\n",
    "        ious[i,j]=iou(pred_box, gt_box)\n",
    "\n",
    "TP = np.any(ious>thresh, axis=1)\n",
    "FP = ~TP\n",
    "FN = ~np.any(ious>thresh, axis=0)\n",
    "\n",
    "recall = np.sum(TP) / (np.sum(FN) + np.sum(TP))\n",
    "print(recall)\n",
    "\n",
    "precision = np.sum(TP) / (np.sum(FP) + np.sum(TP))\n",
    "print(precision)"
   ]
  },
  {
   "cell_type": "code",
   "execution_count": null,
   "metadata": {},
   "outputs": [],
   "source": []
  }
 ],
 "metadata": {
  "interpreter": {
   "hash": "9bdb36c0916cc2b5bb5120fd2f5f8f06c9f98738dae7640ccf43c5ae0d8cee13"
  },
  "kernelspec": {
   "display_name": "Python 3.9.12 ('.venv': poetry)",
   "language": "python",
   "name": "python3"
  },
  "language_info": {
   "codemirror_mode": {
    "name": "ipython",
    "version": 3
   },
   "file_extension": ".py",
   "mimetype": "text/x-python",
   "name": "python",
   "nbconvert_exporter": "python",
   "pygments_lexer": "ipython3",
   "version": "3.8.8"
  },
  "orig_nbformat": 4
 },
 "nbformat": 4,
 "nbformat_minor": 2
}
