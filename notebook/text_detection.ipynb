{
 "cells": [
  {
   "cell_type": "code",
   "execution_count": null,
   "metadata": {},
   "outputs": [],
   "source": [
    "import numpy as np \n",
    "import matplotlib.pyplot as plt \n",
    "import pytesseract\n",
    "from PIL import Image\n",
    "import cv2\n",
    "import pandas as pd \n",
    "import skimage\n",
    "from pathlib import Path"
   ]
  },
  {
   "cell_type": "markdown",
   "metadata": {},
   "source": [
    "## Dataset paths and loading"
   ]
  },
  {
   "cell_type": "code",
   "execution_count": null,
   "metadata": {},
   "outputs": [],
   "source": [
    "from common import *"
   ]
  },
  {
   "cell_type": "markdown",
   "metadata": {},
   "source": [
    "## Load sample image"
   ]
  },
  {
   "cell_type": "code",
   "execution_count": null,
   "metadata": {},
   "outputs": [],
   "source": [
    "im, data = load_sample(image_id=2)"
   ]
  },
  {
   "cell_type": "markdown",
   "metadata": {},
   "source": [
    "## Drawing funcs"
   ]
  },
  {
   "cell_type": "code",
   "execution_count": null,
   "metadata": {},
   "outputs": [],
   "source": [
    "# Linetypes\n",
    "def draw_pipelines(image, data=data):\n",
    "    draw = image.copy()\n",
    "    solid_lines = np.stack(data[\"lines\"].query(\"type=='solid'\")[\"box\"])\n",
    "    dashed_lines = np.stack(data[\"lines\"].query(\"type=='dashed'\")[\"box\"])\n",
    "\n",
    "    draw = cv2.drawContours(draw, solid_lines.reshape(-1,2,2), -1, (255, 255, 0), thickness=2)\n",
    "    draw = cv2.drawContours(draw, dashed_lines.reshape(-1,2,2), -1, (0, 255, 255), thickness=2)\n",
    "    return draw\n",
    "\n",
    "def draw_symbols(image, data=data, color=None, thickness=2):\n",
    "    draw = image.copy()\n",
    "    for i, group in data[\"symbols\"].groupby(\"class\"):\n",
    "        color_ = color or (np.random.rand(3)*255).astype(np.uint8)\n",
    "        symbols = np.stack(group[\"box\"])\n",
    "        draw_rects(draw, symbols, color=[int(c) for c in color_], thickness=thickness)\n",
    "    return draw\n",
    "\n",
    "def draw_text_boxes(image, data=data, color=(255,0,255), thickness=1):\n",
    "    draw = image.copy()\n",
    "    text_boxes = np.stack(data[\"words\"][\"box\"])\n",
    "    draw_rects(draw, text_boxes, color=color, thickness=thickness)\n",
    "    return draw"
   ]
  },
  {
   "cell_type": "code",
   "execution_count": null,
   "metadata": {},
   "outputs": [],
   "source": [
    "%matplotlib tk\n",
    "\n",
    "\n",
    "# im = cv2.imread(\"test.jpg\")\n",
    "draw = im.copy()\n",
    "draw = draw_pipelines(draw)\n",
    "draw = draw_symbols(draw)\n",
    "draw = draw_text_boxes(draw)\n",
    "plt.imshow(draw)"
   ]
  },
  {
   "cell_type": "markdown",
   "metadata": {},
   "source": [
    "## Text removal"
   ]
  },
  {
   "cell_type": "code",
   "execution_count": null,
   "metadata": {},
   "outputs": [],
   "source": [
    "from craft_text_detector import (\n",
    "    load_craftnet_model,\n",
    "    load_refinenet_model,\n",
    "    get_prediction,\n",
    ")\n",
    "\n",
    "# load models\n",
    "refine_net = load_refinenet_model(cuda=True)\n",
    "craft_net = load_craftnet_model(cuda=True)"
   ]
  },
  {
   "cell_type": "code",
   "execution_count": null,
   "metadata": {},
   "outputs": [],
   "source": [
    "window = np.array(im.shape[:2])/5\n",
    "wh, ww = window\n",
    "sh, sw = (window/2).astype(int)"
   ]
  },
  {
   "cell_type": "code",
   "execution_count": null,
   "metadata": {},
   "outputs": [],
   "source": [
    "from skimage.util import view_as_windows\n",
    "\n",
    "gray = cv2.cvtColor(im, cv2.COLOR_BGR2GRAY)\n",
    "t, thresh = cv2.threshold(gray, 0, 255, cv2.THRESH_BINARY_INV | cv2.THRESH_OTSU)\n",
    "t = view_as_windows(thresh, (wh,ww), (sh,sw))\n",
    "\n",
    "offsets = np.zeros((*t.shape[:2],2))\n",
    "for i in range(t.shape[0]):\n",
    "    for j in range(t.shape[1]):\n",
    "        offsets[i,j] = (sw*j, sh*i)\n",
    "\n",
    "# plt.imshow(thresh)\n",
    "# plt.plot(offsets.reshape(-1,2)[:,0],offsets.reshape(-1,2)[:,1],\"rx\")\n",
    "\n",
    "plt.imshow(t[0,0])\n",
    "t.shape"
   ]
  },
  {
   "cell_type": "code",
   "execution_count": null,
   "metadata": {},
   "outputs": [],
   "source": [
    "outputs = []\n",
    "for window in t.reshape(-1,int(wh),int(ww)):\n",
    "    prediction_result = get_prediction(\n",
    "        image=window,\n",
    "        craft_net=craft_net,\n",
    "        refine_net=refine_net,\n",
    "        cuda=True,\n",
    "        poly=False\n",
    "    )\n",
    "    outputs.append(prediction_result)"
   ]
  },
  {
   "cell_type": "code",
   "execution_count": null,
   "metadata": {},
   "outputs": [],
   "source": [
    "fig, axs = plt.subplots(1,2, sharex=True, sharey=True)\n",
    "# plt.imshow(thresh)\n",
    "draw1 = cv2.cvtColor(thresh,cv2.COLOR_GRAY2RGB)\n",
    "draw2 = cv2.cvtColor(thresh,cv2.COLOR_GRAY2RGB)\n",
    "\n",
    "\n",
    "offs_boxes = []\n",
    "for offs, output in zip(offsets.reshape(-1,2), outputs):\n",
    "    if len(output[\"boxes\"])>0:\n",
    "        boxes = output[\"boxes\"] + offs\n",
    "\n",
    "        offs_boxes.append(boxes)\n",
    "        draw1 = cv2.drawContours(draw1,boxes[...,np.newaxis,:].astype(int),-1, (0,0,0), thickness=-1)\n",
    "        draw2 = cv2.drawContours(draw2,boxes[...,np.newaxis,:].astype(int),-1, (255,0,0), thickness=5)\n",
    "\n",
    "axs[0].imshow(draw1)\n",
    "axs[1].imshow(draw2)"
   ]
  },
  {
   "cell_type": "code",
   "execution_count": null,
   "metadata": {},
   "outputs": [],
   "source": [
    "r = np.vstack(offs_boxes)[4, 0::2].astype(int)\n",
    "plt.imshow(thresh[rect_to_slice(r)])"
   ]
  },
  {
   "cell_type": "code",
   "execution_count": null,
   "metadata": {},
   "outputs": [],
   "source": [
    "boxes = np.vstack(offs_boxes)\n",
    "print(len(boxes))\n",
    "boxes_nms = non_max_suppression_fast(boxes[:,0::2].reshape(-1,4), overlapThresh=0.4)\n",
    "print(boxes_nms.shape)\n"
   ]
  },
  {
   "cell_type": "code",
   "execution_count": null,
   "metadata": {},
   "outputs": [],
   "source": [
    "fig, axs = plt.subplots(1,2, sharex=True, sharey=True)\n",
    "# for psm in (0, 1, 3, 4, 5, 6, 7, 11, 12, 13):\n",
    "psm = 7\n",
    "draw2 = cv2.cvtColor(thresh,cv2.COLOR_GRAY2RGB)\n",
    "text_cleanup = thresh.copy()\n",
    "\n",
    "for i, r in enumerate(boxes_nms.reshape(-1,2,2)):\n",
    "    crop = im[rect_to_slice(r, margin=5)]\n",
    "\n",
    "    h, w = crop.shape[:2]\n",
    "\n",
    "    tall = h > 1.3*w\n",
    "    if tall:\n",
    "        crop = cv2.rotate(crop, cv2.ROTATE_90_CLOCKWISE)\n",
    "\n",
    "\n",
    "    try:\n",
    "        text = pytesseract.image_to_string(crop, config=f\"--oem 3 --psm {psm}\")\n",
    "    except pytesseract.TesseractError:\n",
    "        print(\"Oopsie from tesseract\")\n",
    "        break\n",
    "    \n",
    "    if len(text)>0:\n",
    "        alpha_percent = alpha_count(text) / len(text)\n",
    "\n",
    "        if alpha_percent < 0.4 :\n",
    "            draw_rects(draw2, r, (255,0,0), thickness=5)\n",
    "        else:\n",
    "            draw_rects(draw2, r, (0,255,0), thickness=5)\n",
    "            draw_rects(text_cleanup, r, 0, thickness=-1)\n",
    "\n",
    "        cv2.putText(draw2, text.strip(), r[0], cv2.FONT_HERSHEY_PLAIN, 2, (0,255,255))\n",
    "\n",
    "\n",
    "axs[0].imshow(draw2)\n",
    "axs[1].imshow(text_cleanup)"
   ]
  },
  {
   "cell_type": "code",
   "execution_count": null,
   "metadata": {},
   "outputs": [],
   "source": []
  }
 ],
 "metadata": {
  "interpreter": {
   "hash": "9bdb36c0916cc2b5bb5120fd2f5f8f06c9f98738dae7640ccf43c5ae0d8cee13"
  },
  "kernelspec": {
   "display_name": "Python 3.9.12 ('.venv': poetry)",
   "language": "python",
   "name": "python3"
  },
  "language_info": {
   "codemirror_mode": {
    "name": "ipython",
    "version": 3
   },
   "file_extension": ".py",
   "mimetype": "text/x-python",
   "name": "python",
   "nbconvert_exporter": "python",
   "pygments_lexer": "ipython3",
   "version": "3.8.8"
  },
  "orig_nbformat": 4
 },
 "nbformat": 4,
 "nbformat_minor": 2
}
