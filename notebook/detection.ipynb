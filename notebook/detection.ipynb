{
 "cells": [
  {
   "cell_type": "code",
   "execution_count": 62,
   "metadata": {},
   "outputs": [],
   "source": [
    "import numpy as np \n",
    "import matplotlib.pyplot as plt \n",
    "import sklearn.neighbors\n",
    "from sklearn.pipeline import Pipeline\n",
    "from sklearn.preprocessing import StandardScaler\n",
    "\n",
    "import pytesseract\n",
    "from PIL import Image\n",
    "import cv2\n",
    "import pandas as pd \n",
    "import skimage\n",
    "from pathlib import Path"
   ]
  },
  {
   "cell_type": "markdown",
   "metadata": {},
   "source": [
    "## Dataset paths and loading"
   ]
  },
  {
   "cell_type": "code",
   "execution_count": 63,
   "metadata": {},
   "outputs": [],
   "source": [
    "from common import *"
   ]
  },
  {
   "cell_type": "markdown",
   "metadata": {},
   "source": [
    "## Load sample image"
   ]
  },
  {
   "cell_type": "code",
   "execution_count": 64,
   "metadata": {},
   "outputs": [],
   "source": [
    "image_id = 1\n",
    "im, data = load_sample(image_id)"
   ]
  },
  {
   "cell_type": "markdown",
   "metadata": {},
   "source": [
    "## Drawing funcs"
   ]
  },
  {
   "cell_type": "code",
   "execution_count": 65,
   "metadata": {},
   "outputs": [],
   "source": [
    "# Linetypes\n",
    "def draw_pipelines(image, data=data):\n",
    "    draw = image.copy()\n",
    "    solid_lines = np.stack(data[\"lines\"].query(\"type=='solid'\")[\"box\"])\n",
    "    dashed_lines = np.stack(data[\"lines\"].query(\"type=='dashed'\")[\"box\"])\n",
    "\n",
    "    draw = cv2.drawContours(draw, solid_lines.reshape(-1,2,2), -1, (255, 255, 0), thickness=2)\n",
    "    draw = cv2.drawContours(draw, dashed_lines.reshape(-1,2,2), -1, (0, 255, 255), thickness=2)\n",
    "    return draw\n",
    "\n",
    "def draw_detections(image, rects, classes,color=(255,0,0)):\n",
    "    draw_rects(image, rects, thickness=8, color=color)\n",
    "    for r,c in zip(rects,classes):\n",
    "        cv2.putText(image, str(c), r.flatten()[:2], cv2.FONT_HERSHEY_PLAIN, 6, (0,0,255))\n",
    "\n",
    "def draw_symbols(image, data=data, color=None, thickness=2):\n",
    "    draw = image.copy()\n",
    "    for i, group in data[\"symbols\"].groupby(\"class\"):\n",
    "        color_ = color or (np.random.rand(3)*255).astype(np.uint8)\n",
    "        symbols = np.stack(group[\"box\"])\n",
    "        draw_rects(draw, symbols, color=[int(c) for c in color_], thickness=thickness)\n",
    "    return draw\n",
    "\n",
    "def draw_gt_symbols(image, data=data,color=None, thickness=2):\n",
    "    symbol_boxes = np.stack(data[\"symbols\"][\"box\"])\n",
    "    symbol_classes = np.stack(data[\"symbols\"][\"class\"]).astype(int)\n",
    "    draw_detections(image, symbol_boxes, symbol_classes, color=color)\n",
    "\n",
    "def draw_text_boxes(image, data=data, color=(255,0,255), thickness=1):\n",
    "    draw = image.copy()\n",
    "    text_boxes = np.stack(data[\"words\"][\"box\"])\n",
    "    draw_rects(draw, text_boxes, color=color, thickness=thickness)\n",
    "    return draw\n"
   ]
  },
  {
   "cell_type": "code",
   "execution_count": 66,
   "metadata": {},
   "outputs": [
    {
     "name": "stdout",
     "output_type": "stream",
     "text": [
      "Warning: Cannot change to a different GUI toolkit: qt. Using tk instead.\n"
     ]
    },
    {
     "data": {
      "text/plain": [
       "<matplotlib.image.AxesImage at 0x251b070ce80>"
      ]
     },
     "execution_count": 66,
     "metadata": {},
     "output_type": "execute_result"
    },
    {
     "name": "stderr",
     "output_type": "stream",
     "text": [
      "Exception in Tkinter callback\n",
      "Traceback (most recent call last):\n",
      "  File \"C:\\Users\\admpdi\\Code\\su-visao\\WPy64-3880\\python-3.8.8.amd64\\lib\\tkinter\\__init__.py\", line 1892, in __call__\n",
      "    return self.func(*args)\n",
      "  File \"C:\\Users\\admpdi\\Code\\su-visao\\WPy64-3880\\python-3.8.8.amd64\\lib\\tkinter\\__init__.py\", line 814, in callit\n",
      "    func(*args)\n",
      "  File \"c:\\Users\\admpdi\\Code\\personal\\CMP197\\pid_detect\\.venv\\lib\\site-packages\\matplotlib\\backends\\_backend_tk.py\", line 489, in delayed_destroy\n",
      "    self.window.destroy()\n",
      "  File \"C:\\Users\\admpdi\\Code\\su-visao\\WPy64-3880\\python-3.8.8.amd64\\lib\\tkinter\\__init__.py\", line 2312, in destroy\n",
      "    self.tk.call('destroy', self._w)\n",
      "_tkinter.TclError: can't invoke \"destroy\" command: application has been destroyed\n"
     ]
    }
   ],
   "source": [
    "%matplotlib qt\n",
    "\n",
    "\n",
    "# im = cv2.imread(\"test.jpg\")\n",
    "draw = im.copy()\n",
    "draw = draw_pipelines(draw)\n",
    "draw = draw_symbols(draw)\n",
    "draw = draw_text_boxes(draw)\n",
    "plt.imshow(draw)"
   ]
  },
  {
   "cell_type": "code",
   "execution_count": 67,
   "metadata": {},
   "outputs": [],
   "source": [
    "gray = cv2.cvtColor(im, cv2.COLOR_RGB2GRAY)\n",
    "t, thresh = cv2.threshold(gray, 0, 255, cv2.THRESH_BINARY_INV | cv2.THRESH_OTSU)\n",
    "\n",
    "plt.imshow(thresh)\n",
    "plt.tight_layout()"
   ]
  },
  {
   "cell_type": "code",
   "execution_count": 68,
   "metadata": {},
   "outputs": [
    {
     "name": "stdout",
     "output_type": "stream",
     "text": [
      "Average text height:\n"
     ]
    },
    {
     "data": {
      "text/plain": [
       "35.60747663551402"
      ]
     },
     "execution_count": 68,
     "metadata": {},
     "output_type": "execute_result"
    }
   ],
   "source": [
    "X = np.stack(data['words'][\"box\"])\n",
    "\n",
    "whs = np.abs(np.stack((X[:,0] - X[:,2], X[:,1]-X[:,3]))).T\n",
    "\n",
    "text_heights = np.min(whs,axis=1)\n",
    "print(\"Average text height:\")\n",
    "np.mean(text_heights[text_heights>0])"
   ]
  },
  {
   "cell_type": "markdown",
   "metadata": {},
   "source": [
    "## Detection with blackhat"
   ]
  },
  {
   "cell_type": "code",
   "execution_count": 69,
   "metadata": {},
   "outputs": [],
   "source": [
    "def detect_symbols(image):\n",
    "\n",
    "    if image.ndim == 3:\n",
    "        gray = np.mean(image,axis=-1).astype(np.uint8)\n",
    "    else:\n",
    "        gray=image\n",
    "\n",
    "    t, thresh = cv2.threshold(gray, 0, 255, cv2.THRESH_BINARY | cv2.THRESH_OTSU)\n",
    "\n",
    "    # Foreground is smaller than 50% of image\n",
    "    if np.count_nonzero(thresh) > thresh.size/2:\n",
    "        thresh = 255-thresh\n",
    "\n",
    "    skel = skimage.morphology.skeletonize(thresh//255, method=\"lee\")\n",
    "\n",
    "    kern = cv2.getStructuringElement(cv2.MORPH_RECT, ksize=(41,41))\n",
    "    closing_kern = cv2.getStructuringElement(cv2.MORPH_RECT, ksize=(5,5))\n",
    "\n",
    "    blackhat = cv2.morphologyEx(skel, cv2.MORPH_BLACKHAT, kern)\n",
    "\n",
    "    blackhat = cv2.morphologyEx(blackhat, cv2.MORPH_OPEN, closing_kern)\n",
    "    blackhat = cv2.morphologyEx(blackhat, cv2.MORPH_CLOSE, closing_kern)\n",
    "\n",
    "    # blackhat = cv2.morphologyEx(blackhat, cv2.MORPH_DILATE, closing_kern, iterations=2)\n",
    "    # blackhat = cv2.morphologyEx(blackhat, cv2.MORPH_ERODE, closing_kern, iterations=1)\n",
    "\n",
    "    contours, hierarchy = cv2.findContours(blackhat*255, cv2.RETR_TREE, cv2.CHAIN_APPROX_SIMPLE)\n",
    "\n",
    "    symbol_boxes = []\n",
    "    for c in contours:\n",
    "        if cv2.contourArea(c) > 10:\n",
    "            x,y,w,h =cv2.boundingRect(c)\n",
    "            symbol_boxes.append([x,y,x+w,y+h])\n",
    "\n",
    "    return np.stack(symbol_boxes)\n"
   ]
  },
  {
   "cell_type": "markdown",
   "metadata": {},
   "source": [
    "## Detect without text removal"
   ]
  },
  {
   "cell_type": "code",
   "execution_count": 70,
   "metadata": {},
   "outputs": [
    {
     "data": {
      "text/plain": [
       "<matplotlib.image.AxesImage at 0x251a575a7c0>"
      ]
     },
     "execution_count": 70,
     "metadata": {},
     "output_type": "execute_result"
    }
   ],
   "source": [
    "fig, axs = plt.subplots(1,2, sharex=True, sharey=True)\n",
    "\n",
    "draw = im.copy()\n",
    "\n",
    "symbol_boxes = detect_symbols(im)\n",
    "\n",
    "draw_rects(draw, np.stack(symbol_boxes).reshape(-1,2,2), thickness=8)\n",
    "axs[0].imshow(draw)\n",
    "\n",
    "draw2 = draw_symbols(draw, thickness=8, color=(0,255,0))\n",
    "axs[1].imshow(draw2)"
   ]
  },
  {
   "cell_type": "markdown",
   "metadata": {},
   "source": [
    "## Detect with text removal"
   ]
  },
  {
   "cell_type": "code",
   "execution_count": 71,
   "metadata": {},
   "outputs": [
    {
     "data": {
      "text/plain": [
       "<matplotlib.image.AxesImage at 0x251a5804e80>"
      ]
     },
     "execution_count": 71,
     "metadata": {},
     "output_type": "execute_result"
    }
   ],
   "source": [
    "fig, axs = plt.subplots(1,2, sharex=True, sharey=True)\n",
    "\n",
    "# Pre-process\n",
    "im_cleanup = cleanup_text(im, img_id=image_id)\n",
    "draw = im_cleanup.copy()\n",
    "\n",
    "# Detect\n",
    "symbol_boxes = detect_symbols(im_cleanup)\n",
    "\n",
    "# Draw results\n",
    "draw_rects(draw, np.stack(symbol_boxes).reshape(-1,2,2), thickness=8)\n",
    "axs[0].imshow(draw)\n",
    "draw2 = draw_symbols(draw, thickness=8, color=(0,255,0))\n",
    "axs[1].imshow(draw2)"
   ]
  },
  {
   "cell_type": "markdown",
   "metadata": {},
   "source": [
    "## Classsification"
   ]
  },
  {
   "cell_type": "markdown",
   "metadata": {},
   "source": [
    "### Features for each object"
   ]
  },
  {
   "cell_type": "code",
   "execution_count": 72,
   "metadata": {},
   "outputs": [],
   "source": [
    "import mahotas \n",
    "\n",
    "def get_largest_contour(im):\n",
    "    contours, hierarchy = cv2.findContours(im, cv2.RETR_TREE, cv2.CHAIN_APPROX_SIMPLE)\n",
    "    cmax = sorted(contours, key=cv2.contourArea)[-1]\n",
    "    return cmax\n",
    "\n",
    "def zernike_adaptive_centroid(image, degree=8):\n",
    "    c = get_largest_contour(image)\n",
    "    (x,y),r = cv2.minEnclosingCircle(c)\n",
    "    return  mahotas.features.zernike_moments(image, r, degree=degree)\n",
    "\n",
    "def rect_to_slice(rect_pts, margin=0):\n",
    "    \"\"\"\n",
    "    Convert cv-style rect to numpy-style slice\n",
    "    \"\"\"\n",
    "    (x0, y0), (x1, y1) = rect_pts\n",
    "\n",
    "    return (slice(y0-margin, y1+margin), slice(x0-margin, x1+margin))"
   ]
  },
  {
   "cell_type": "code",
   "execution_count": 73,
   "metadata": {},
   "outputs": [
    {
     "name": "stdout",
     "output_type": "stream",
     "text": [
      "[[0.31830989 0.01106598 0.38703246 ... 0.05597141 0.03592777 0.02536582]\n",
      " [0.31830989 0.0021187  0.37050018 ... 0.08079489 0.13086272 0.03363618]\n",
      " [0.31830989 0.00048755 0.35029793 ... 0.04180301 0.09806796 0.01287733]\n",
      " ...\n",
      " [0.31830989 0.00225107 0.41444083 ... 0.03071122 0.0328579  0.08483224]\n",
      " [0.31830989 0.0056194  0.26216208 ... 0.06943625 0.19528019 0.16530438]\n",
      " [0.31830989 0.02421316 0.1962177  ... 0.13619354 0.02213319 0.04046806]]\n"
     ]
    }
   ],
   "source": [
    "def get_square_thresh(image):\n",
    "    gray = cv2.cvtColor(image, cv2.COLOR_BGR2GRAY)\n",
    "    t, thresh = cv2.threshold(gray, 0, 255, cv2.THRESH_BINARY_INV | cv2.THRESH_OTSU)\n",
    "\n",
    "    return resizeAndPad(thresh, (64,64), padColor=0)\n",
    "\n",
    "def get_zernike_features(image):\n",
    "    thresh = get_square_thresh(image)\n",
    "    return zernike_adaptive_centroid(thresh)\n",
    "\n",
    "crops = [ im_cleanup[rect_to_slice(s.reshape(2,2), margin=15)] for s in symbol_boxes] \n",
    "features = [ get_zernike_features(crop) for crop in crops]\n",
    "\n",
    "print(np.stack(features))"
   ]
  },
  {
   "cell_type": "markdown",
   "metadata": {},
   "source": [
    "#### Clustering"
   ]
  },
  {
   "cell_type": "code",
   "execution_count": 26,
   "metadata": {},
   "outputs": [
    {
     "ename": "NameError",
     "evalue": "name 'features' is not defined",
     "output_type": "error",
     "traceback": [
      "\u001b[1;31m---------------------------------------------------------------------------\u001b[0m",
      "\u001b[1;31mNameError\u001b[0m                                 Traceback (most recent call last)",
      "\u001b[1;32mc:\\Users\\admpdi\\Code\\personal\\CMP197\\pid_detect\\notebook\\detection.ipynb Cell 22'\u001b[0m in \u001b[0;36m<cell line: 3>\u001b[1;34m()\u001b[0m\n\u001b[0;32m      <a href='vscode-notebook-cell:/c%3A/Users/admpdi/Code/personal/CMP197/pid_detect/notebook/detection.ipynb#ch0000020?line=0'>1</a>\u001b[0m \u001b[39mimport\u001b[39;00m \u001b[39msklearn\u001b[39;00m\u001b[39m.\u001b[39;00m\u001b[39mcluster\u001b[39;00m\n\u001b[1;32m----> <a href='vscode-notebook-cell:/c%3A/Users/admpdi/Code/personal/CMP197/pid_detect/notebook/detection.ipynb#ch0000020?line=2'>3</a>\u001b[0m centroid, labels, _ \u001b[39m=\u001b[39m sklearn\u001b[39m.\u001b[39mcluster\u001b[39m.\u001b[39mk_means(np\u001b[39m.\u001b[39mstack(features), n_clusters\u001b[39m=\u001b[39m\u001b[39m5\u001b[39m)\n",
      "\u001b[1;31mNameError\u001b[0m: name 'features' is not defined"
     ]
    }
   ],
   "source": [
    "import sklearn.cluster\n",
    "\n",
    "centroid, labels, _ = sklearn.cluster.k_means(np.stack(features), n_clusters=5)\n",
    "# b = sklearn.cluster.estimate_bandwidth(np.stack(features))\n",
    "# centroid, labels = sklearn.cluster.mean_shift(np.stack(features), bandwidth=b)"
   ]
  },
  {
   "cell_type": "code",
   "execution_count": null,
   "metadata": {},
   "outputs": [],
   "source": [
    "for l in np.unique(labels):\n",
    "    fig,ax = plt.subplots(1, 1+np.count_nonzero(labels==l))\n",
    "    i=0\n",
    "    for label, crop in zip(labels,crops):\n",
    "        if label==l:\n",
    "            ax[i].imshow(crop)\n",
    "            i+=1"
   ]
  },
  {
   "cell_type": "markdown",
   "metadata": {},
   "source": [
    "### Training split"
   ]
  },
  {
   "cell_type": "code",
   "execution_count": 29,
   "metadata": {},
   "outputs": [],
   "source": [
    "import re\n",
    "\n",
    "def load_training_set(feature_func):\n",
    "    training_img_ids = range(400,500) \n",
    "    templates_path = Path(\"../templates\")\n",
    "\n",
    "    file_pattern = re.compile(r\"im(\\d+)_sym(\\d+)\")\n",
    "\n",
    "    train_x = []\n",
    "    train_y = []\n",
    "    for template in templates_path.glob(\"**/*.png\"):\n",
    "        file = template.stem\n",
    "        id, sym = file_pattern.match(file).groups() \n",
    "\n",
    "        if int(id) in training_img_ids:\n",
    "            template_im = cv2.imread(str(template))\n",
    "\n",
    "            # Features\n",
    "            train_x.append(feature_func(template_im))\n",
    "            # Folder is the class\n",
    "            train_y.append(int(template.parent.stem))\n",
    "\n",
    "    return np.stack(train_x), np.stack(train_y)\n"
   ]
  },
  {
   "cell_type": "code",
   "execution_count": 74,
   "metadata": {},
   "outputs": [],
   "source": [
    "def eval_results(image, boxes, feature_func, class_pipeline):\n",
    "    fig, axs = plt.subplots(1,2, sharex=True, sharey=True)\n",
    "\n",
    "    draw = image.copy()\n",
    "    draw2 = image.copy()\n",
    "\n",
    "    # Detect\n",
    "    # symbol_boxes = detect_symbols(im_cleanup)\n",
    "    # symbol_boxes = np.stack(data[\"symbols\"][\"box\"])\n",
    "    crops = [ image[rect_to_slice(s.reshape(2,2), margin=15)] for s in boxes] \n",
    "    features = [ feature_func(crop) for crop in crops]\n",
    "\n",
    "    probas = class_pipeline.predict_proba(features)\n",
    "    predictions = 1+np.argmax(probas,axis=1)\n",
    "    confidences = np.max(probas,axis=1)\n",
    "\n",
    "    draw_gt_symbols(draw2, thickness=8, color=(0,255,0))\n",
    "    axs[0].imshow(draw2)\n",
    "    axs[0].set_title(\"$\\it{Ground Truth}$\")\n",
    "\n",
    "    # Draw results\n",
    "    draw_detections(draw, np.stack(boxes).reshape(-1,2,2), predictions)\n",
    "    axs[1].imshow(draw)\n",
    "    axs[1].set_title(\"Detectado\")\n",
    "\n",
    "    gt_boxes = np.stack(data[\"symbols\"][\"box\"])\n",
    "    gt_classes = np.stack(data[\"symbols\"][\"class\"]).astype(int)\n",
    "\n",
    "    metric_data = []\n",
    "    for clas in np.unique(gt_classes):\n",
    "        gt = gt_boxes[gt_classes==clas]\n",
    "        pred = boxes[predictions==clas]\n",
    "        metrics = detection_metrics(gt,pred)\n",
    "        metric_data.append({\"clas\":clas, \"precision\":metrics[0], \"recall\":metrics[1]})\n",
    "    df = pd.DataFrame(metric_data)\n",
    "    return df\n"
   ]
  },
  {
   "cell_type": "code",
   "execution_count": 31,
   "metadata": {},
   "outputs": [
    {
     "data": {
      "text/plain": [
       "Pipeline(steps=[('scaler', StandardScaler()),\n",
       "                ('classifier', KNeighborsClassifier())])"
      ]
     },
     "execution_count": 31,
     "metadata": {},
     "output_type": "execute_result"
    }
   ],
   "source": [
    "pipe = Pipeline([(\"scaler\", StandardScaler()), (\"classifier\", sklearn.neighbors.KNeighborsClassifier(n_neighbors=5))])\n",
    "\n",
    "train_x, train_y = load_training_set(feature_func=get_zernike_features)\n",
    "pipe.fit(train_x, train_y)"
   ]
  },
  {
   "cell_type": "code",
   "execution_count": 57,
   "metadata": {},
   "outputs": [
    {
     "name": "stderr",
     "output_type": "stream",
     "text": [
      "c:\\Users\\admpdi\\Code\\personal\\CMP197\\pid_detect\\notebook\\common.py:330: RuntimeWarning: invalid value encountered in long_scalars\n",
      "  recall = np.sum(TP) / (np.sum(FN) + np.sum(TP))\n"
     ]
    },
    {
     "data": {
      "text/html": [
       "<div>\n",
       "<style scoped>\n",
       "    .dataframe tbody tr th:only-of-type {\n",
       "        vertical-align: middle;\n",
       "    }\n",
       "\n",
       "    .dataframe tbody tr th {\n",
       "        vertical-align: top;\n",
       "    }\n",
       "\n",
       "    .dataframe thead th {\n",
       "        text-align: right;\n",
       "    }\n",
       "</style>\n",
       "<table border=\"1\" class=\"dataframe\">\n",
       "  <thead>\n",
       "    <tr style=\"text-align: right;\">\n",
       "      <th></th>\n",
       "      <th>clas</th>\n",
       "      <th>precision</th>\n",
       "      <th>recall</th>\n",
       "    </tr>\n",
       "  </thead>\n",
       "  <tbody>\n",
       "    <tr>\n",
       "      <th>0</th>\n",
       "      <td>1</td>\n",
       "      <td>0.000000</td>\n",
       "      <td>0.000000</td>\n",
       "    </tr>\n",
       "    <tr>\n",
       "      <th>1</th>\n",
       "      <td>2</td>\n",
       "      <td>1.000000</td>\n",
       "      <td>0.500000</td>\n",
       "    </tr>\n",
       "    <tr>\n",
       "      <th>2</th>\n",
       "      <td>3</td>\n",
       "      <td>1.000000</td>\n",
       "      <td>0.500000</td>\n",
       "    </tr>\n",
       "    <tr>\n",
       "      <th>3</th>\n",
       "      <td>4</td>\n",
       "      <td>1.000000</td>\n",
       "      <td>0.333333</td>\n",
       "    </tr>\n",
       "    <tr>\n",
       "      <th>4</th>\n",
       "      <td>5</td>\n",
       "      <td>0.666667</td>\n",
       "      <td>0.666667</td>\n",
       "    </tr>\n",
       "    <tr>\n",
       "      <th>5</th>\n",
       "      <td>6</td>\n",
       "      <td>0.250000</td>\n",
       "      <td>1.000000</td>\n",
       "    </tr>\n",
       "    <tr>\n",
       "      <th>6</th>\n",
       "      <td>7</td>\n",
       "      <td>1.000000</td>\n",
       "      <td>0.307692</td>\n",
       "    </tr>\n",
       "    <tr>\n",
       "      <th>7</th>\n",
       "      <td>9</td>\n",
       "      <td>0.500000</td>\n",
       "      <td>0.666667</td>\n",
       "    </tr>\n",
       "    <tr>\n",
       "      <th>8</th>\n",
       "      <td>10</td>\n",
       "      <td>0.750000</td>\n",
       "      <td>0.857143</td>\n",
       "    </tr>\n",
       "    <tr>\n",
       "      <th>9</th>\n",
       "      <td>11</td>\n",
       "      <td>1.000000</td>\n",
       "      <td>0.800000</td>\n",
       "    </tr>\n",
       "    <tr>\n",
       "      <th>10</th>\n",
       "      <td>12</td>\n",
       "      <td>0.000000</td>\n",
       "      <td>NaN</td>\n",
       "    </tr>\n",
       "    <tr>\n",
       "      <th>11</th>\n",
       "      <td>13</td>\n",
       "      <td>0.000000</td>\n",
       "      <td>0.000000</td>\n",
       "    </tr>\n",
       "    <tr>\n",
       "      <th>12</th>\n",
       "      <td>14</td>\n",
       "      <td>0.000000</td>\n",
       "      <td>0.000000</td>\n",
       "    </tr>\n",
       "    <tr>\n",
       "      <th>13</th>\n",
       "      <td>15</td>\n",
       "      <td>1.000000</td>\n",
       "      <td>1.000000</td>\n",
       "    </tr>\n",
       "    <tr>\n",
       "      <th>14</th>\n",
       "      <td>16</td>\n",
       "      <td>0.333333</td>\n",
       "      <td>0.250000</td>\n",
       "    </tr>\n",
       "    <tr>\n",
       "      <th>15</th>\n",
       "      <td>17</td>\n",
       "      <td>0.500000</td>\n",
       "      <td>0.666667</td>\n",
       "    </tr>\n",
       "    <tr>\n",
       "      <th>16</th>\n",
       "      <td>18</td>\n",
       "      <td>1.000000</td>\n",
       "      <td>1.000000</td>\n",
       "    </tr>\n",
       "    <tr>\n",
       "      <th>17</th>\n",
       "      <td>20</td>\n",
       "      <td>0.250000</td>\n",
       "      <td>0.500000</td>\n",
       "    </tr>\n",
       "    <tr>\n",
       "      <th>18</th>\n",
       "      <td>21</td>\n",
       "      <td>0.250000</td>\n",
       "      <td>0.136364</td>\n",
       "    </tr>\n",
       "    <tr>\n",
       "      <th>19</th>\n",
       "      <td>22</td>\n",
       "      <td>0.800000</td>\n",
       "      <td>0.307692</td>\n",
       "    </tr>\n",
       "    <tr>\n",
       "      <th>20</th>\n",
       "      <td>23</td>\n",
       "      <td>0.600000</td>\n",
       "      <td>0.750000</td>\n",
       "    </tr>\n",
       "    <tr>\n",
       "      <th>21</th>\n",
       "      <td>24</td>\n",
       "      <td>0.000000</td>\n",
       "      <td>0.000000</td>\n",
       "    </tr>\n",
       "    <tr>\n",
       "      <th>22</th>\n",
       "      <td>25</td>\n",
       "      <td>0.000000</td>\n",
       "      <td>0.000000</td>\n",
       "    </tr>\n",
       "    <tr>\n",
       "      <th>23</th>\n",
       "      <td>26</td>\n",
       "      <td>0.000000</td>\n",
       "      <td>0.000000</td>\n",
       "    </tr>\n",
       "    <tr>\n",
       "      <th>24</th>\n",
       "      <td>27</td>\n",
       "      <td>0.000000</td>\n",
       "      <td>NaN</td>\n",
       "    </tr>\n",
       "    <tr>\n",
       "      <th>25</th>\n",
       "      <td>28</td>\n",
       "      <td>0.333333</td>\n",
       "      <td>0.500000</td>\n",
       "    </tr>\n",
       "    <tr>\n",
       "      <th>26</th>\n",
       "      <td>29</td>\n",
       "      <td>0.000000</td>\n",
       "      <td>NaN</td>\n",
       "    </tr>\n",
       "    <tr>\n",
       "      <th>27</th>\n",
       "      <td>30</td>\n",
       "      <td>0.000000</td>\n",
       "      <td>0.000000</td>\n",
       "    </tr>\n",
       "    <tr>\n",
       "      <th>28</th>\n",
       "      <td>31</td>\n",
       "      <td>0.000000</td>\n",
       "      <td>0.000000</td>\n",
       "    </tr>\n",
       "    <tr>\n",
       "      <th>29</th>\n",
       "      <td>32</td>\n",
       "      <td>0.000000</td>\n",
       "      <td>NaN</td>\n",
       "    </tr>\n",
       "  </tbody>\n",
       "</table>\n",
       "</div>"
      ],
      "text/plain": [
       "    clas  precision    recall\n",
       "0      1   0.000000  0.000000\n",
       "1      2   1.000000  0.500000\n",
       "2      3   1.000000  0.500000\n",
       "3      4   1.000000  0.333333\n",
       "4      5   0.666667  0.666667\n",
       "5      6   0.250000  1.000000\n",
       "6      7   1.000000  0.307692\n",
       "7      9   0.500000  0.666667\n",
       "8     10   0.750000  0.857143\n",
       "9     11   1.000000  0.800000\n",
       "10    12   0.000000       NaN\n",
       "11    13   0.000000  0.000000\n",
       "12    14   0.000000  0.000000\n",
       "13    15   1.000000  1.000000\n",
       "14    16   0.333333  0.250000\n",
       "15    17   0.500000  0.666667\n",
       "16    18   1.000000  1.000000\n",
       "17    20   0.250000  0.500000\n",
       "18    21   0.250000  0.136364\n",
       "19    22   0.800000  0.307692\n",
       "20    23   0.600000  0.750000\n",
       "21    24   0.000000  0.000000\n",
       "22    25   0.000000  0.000000\n",
       "23    26   0.000000  0.000000\n",
       "24    27   0.000000       NaN\n",
       "25    28   0.333333  0.500000\n",
       "26    29   0.000000       NaN\n",
       "27    30   0.000000  0.000000\n",
       "28    31   0.000000  0.000000\n",
       "29    32   0.000000       NaN"
      ]
     },
     "execution_count": 57,
     "metadata": {},
     "output_type": "execute_result"
    }
   ],
   "source": [
    "df = eval_results(image=im_cleanup, \n",
    "             boxes=detect_symbols(im_cleanup),\n",
    "             feature_func=get_zernike_features,\n",
    "             class_pipeline=pipe)\n",
    "\n",
    "df"
   ]
  },
  {
   "cell_type": "code",
   "execution_count": 75,
   "metadata": {},
   "outputs": [
    {
     "data": {
      "text/plain": [
       "Pipeline(steps=[('scaler', StandardScaler()),\n",
       "                ('classifier', SVC(probability=True))])"
      ]
     },
     "execution_count": 75,
     "metadata": {},
     "output_type": "execute_result"
    }
   ],
   "source": [
    "import sklearn.svm\n",
    "\n",
    "pipe = Pipeline([(\"scaler\", StandardScaler()), (\"classifier\", sklearn.svm.SVC(probability=True))])\n",
    "\n",
    "train_x, train_y = load_training_set(feature_func=get_zernike_features)\n",
    "pipe.fit(train_x, train_y)"
   ]
  },
  {
   "cell_type": "code",
   "execution_count": 76,
   "metadata": {},
   "outputs": [
    {
     "name": "stdout",
     "output_type": "stream",
     "text": [
      "clas         17.137931\n",
      "precision     0.374466\n",
      "recall        0.415580\n",
      "dtype: float64\n"
     ]
    },
    {
     "name": "stderr",
     "output_type": "stream",
     "text": [
      "c:\\Users\\admpdi\\Code\\personal\\CMP197\\pid_detect\\notebook\\common.py:330: RuntimeWarning: invalid value encountered in long_scalars\n",
      "  recall = np.sum(TP) / (np.sum(FN) + np.sum(TP))\n"
     ]
    },
    {
     "data": {
      "text/html": [
       "<div>\n",
       "<style scoped>\n",
       "    .dataframe tbody tr th:only-of-type {\n",
       "        vertical-align: middle;\n",
       "    }\n",
       "\n",
       "    .dataframe tbody tr th {\n",
       "        vertical-align: top;\n",
       "    }\n",
       "\n",
       "    .dataframe thead th {\n",
       "        text-align: right;\n",
       "    }\n",
       "</style>\n",
       "<table border=\"1\" class=\"dataframe\">\n",
       "  <thead>\n",
       "    <tr style=\"text-align: right;\">\n",
       "      <th></th>\n",
       "      <th>clas</th>\n",
       "      <th>precision</th>\n",
       "      <th>recall</th>\n",
       "    </tr>\n",
       "  </thead>\n",
       "  <tbody>\n",
       "    <tr>\n",
       "      <th>6</th>\n",
       "      <td>9</td>\n",
       "      <td>1.000000</td>\n",
       "      <td>1.000000</td>\n",
       "    </tr>\n",
       "    <tr>\n",
       "      <th>8</th>\n",
       "      <td>11</td>\n",
       "      <td>1.000000</td>\n",
       "      <td>1.000000</td>\n",
       "    </tr>\n",
       "    <tr>\n",
       "      <th>12</th>\n",
       "      <td>15</td>\n",
       "      <td>0.750000</td>\n",
       "      <td>1.000000</td>\n",
       "    </tr>\n",
       "    <tr>\n",
       "      <th>7</th>\n",
       "      <td>10</td>\n",
       "      <td>1.000000</td>\n",
       "      <td>0.800000</td>\n",
       "    </tr>\n",
       "    <tr>\n",
       "      <th>16</th>\n",
       "      <td>19</td>\n",
       "      <td>0.800000</td>\n",
       "      <td>0.800000</td>\n",
       "    </tr>\n",
       "    <tr>\n",
       "      <th>2</th>\n",
       "      <td>4</td>\n",
       "      <td>0.750000</td>\n",
       "      <td>0.750000</td>\n",
       "    </tr>\n",
       "    <tr>\n",
       "      <th>4</th>\n",
       "      <td>6</td>\n",
       "      <td>1.000000</td>\n",
       "      <td>0.666667</td>\n",
       "    </tr>\n",
       "    <tr>\n",
       "      <th>15</th>\n",
       "      <td>18</td>\n",
       "      <td>1.000000</td>\n",
       "      <td>0.666667</td>\n",
       "    </tr>\n",
       "    <tr>\n",
       "      <th>3</th>\n",
       "      <td>5</td>\n",
       "      <td>0.333333</td>\n",
       "      <td>0.500000</td>\n",
       "    </tr>\n",
       "    <tr>\n",
       "      <th>5</th>\n",
       "      <td>7</td>\n",
       "      <td>1.000000</td>\n",
       "      <td>0.500000</td>\n",
       "    </tr>\n",
       "    <tr>\n",
       "      <th>18</th>\n",
       "      <td>22</td>\n",
       "      <td>0.500000</td>\n",
       "      <td>0.500000</td>\n",
       "    </tr>\n",
       "    <tr>\n",
       "      <th>1</th>\n",
       "      <td>2</td>\n",
       "      <td>0.750000</td>\n",
       "      <td>0.500000</td>\n",
       "    </tr>\n",
       "    <tr>\n",
       "      <th>14</th>\n",
       "      <td>17</td>\n",
       "      <td>0.500000</td>\n",
       "      <td>0.500000</td>\n",
       "    </tr>\n",
       "    <tr>\n",
       "      <th>13</th>\n",
       "      <td>16</td>\n",
       "      <td>0.333333</td>\n",
       "      <td>0.250000</td>\n",
       "    </tr>\n",
       "    <tr>\n",
       "      <th>17</th>\n",
       "      <td>21</td>\n",
       "      <td>0.142857</td>\n",
       "      <td>0.125000</td>\n",
       "    </tr>\n",
       "    <tr>\n",
       "      <th>26</th>\n",
       "      <td>30</td>\n",
       "      <td>0.000000</td>\n",
       "      <td>0.000000</td>\n",
       "    </tr>\n",
       "    <tr>\n",
       "      <th>22</th>\n",
       "      <td>26</td>\n",
       "      <td>0.000000</td>\n",
       "      <td>0.000000</td>\n",
       "    </tr>\n",
       "    <tr>\n",
       "      <th>25</th>\n",
       "      <td>29</td>\n",
       "      <td>0.000000</td>\n",
       "      <td>0.000000</td>\n",
       "    </tr>\n",
       "    <tr>\n",
       "      <th>0</th>\n",
       "      <td>1</td>\n",
       "      <td>0.000000</td>\n",
       "      <td>0.000000</td>\n",
       "    </tr>\n",
       "    <tr>\n",
       "      <th>21</th>\n",
       "      <td>25</td>\n",
       "      <td>0.000000</td>\n",
       "      <td>0.000000</td>\n",
       "    </tr>\n",
       "    <tr>\n",
       "      <th>20</th>\n",
       "      <td>24</td>\n",
       "      <td>0.000000</td>\n",
       "      <td>0.000000</td>\n",
       "    </tr>\n",
       "    <tr>\n",
       "      <th>10</th>\n",
       "      <td>13</td>\n",
       "      <td>0.000000</td>\n",
       "      <td>0.000000</td>\n",
       "    </tr>\n",
       "    <tr>\n",
       "      <th>28</th>\n",
       "      <td>32</td>\n",
       "      <td>0.000000</td>\n",
       "      <td>0.000000</td>\n",
       "    </tr>\n",
       "    <tr>\n",
       "      <th>9</th>\n",
       "      <td>12</td>\n",
       "      <td>0.000000</td>\n",
       "      <td>NaN</td>\n",
       "    </tr>\n",
       "    <tr>\n",
       "      <th>11</th>\n",
       "      <td>14</td>\n",
       "      <td>0.000000</td>\n",
       "      <td>NaN</td>\n",
       "    </tr>\n",
       "    <tr>\n",
       "      <th>19</th>\n",
       "      <td>23</td>\n",
       "      <td>0.000000</td>\n",
       "      <td>NaN</td>\n",
       "    </tr>\n",
       "    <tr>\n",
       "      <th>23</th>\n",
       "      <td>27</td>\n",
       "      <td>0.000000</td>\n",
       "      <td>NaN</td>\n",
       "    </tr>\n",
       "    <tr>\n",
       "      <th>24</th>\n",
       "      <td>28</td>\n",
       "      <td>0.000000</td>\n",
       "      <td>NaN</td>\n",
       "    </tr>\n",
       "    <tr>\n",
       "      <th>27</th>\n",
       "      <td>31</td>\n",
       "      <td>0.000000</td>\n",
       "      <td>NaN</td>\n",
       "    </tr>\n",
       "  </tbody>\n",
       "</table>\n",
       "</div>"
      ],
      "text/plain": [
       "    clas  precision    recall\n",
       "6      9   1.000000  1.000000\n",
       "8     11   1.000000  1.000000\n",
       "12    15   0.750000  1.000000\n",
       "7     10   1.000000  0.800000\n",
       "16    19   0.800000  0.800000\n",
       "2      4   0.750000  0.750000\n",
       "4      6   1.000000  0.666667\n",
       "15    18   1.000000  0.666667\n",
       "3      5   0.333333  0.500000\n",
       "5      7   1.000000  0.500000\n",
       "18    22   0.500000  0.500000\n",
       "1      2   0.750000  0.500000\n",
       "14    17   0.500000  0.500000\n",
       "13    16   0.333333  0.250000\n",
       "17    21   0.142857  0.125000\n",
       "26    30   0.000000  0.000000\n",
       "22    26   0.000000  0.000000\n",
       "25    29   0.000000  0.000000\n",
       "0      1   0.000000  0.000000\n",
       "21    25   0.000000  0.000000\n",
       "20    24   0.000000  0.000000\n",
       "10    13   0.000000  0.000000\n",
       "28    32   0.000000  0.000000\n",
       "9     12   0.000000       NaN\n",
       "11    14   0.000000       NaN\n",
       "19    23   0.000000       NaN\n",
       "23    27   0.000000       NaN\n",
       "24    28   0.000000       NaN\n",
       "27    31   0.000000       NaN"
      ]
     },
     "execution_count": 76,
     "metadata": {},
     "output_type": "execute_result"
    },
    {
     "name": "stderr",
     "output_type": "stream",
     "text": [
      "Exception in Tkinter callback\n",
      "Traceback (most recent call last):\n",
      "  File \"C:\\Users\\admpdi\\Code\\su-visao\\WPy64-3880\\python-3.8.8.amd64\\lib\\tkinter\\__init__.py\", line 1892, in __call__\n",
      "    return self.func(*args)\n",
      "  File \"C:\\Users\\admpdi\\Code\\su-visao\\WPy64-3880\\python-3.8.8.amd64\\lib\\tkinter\\__init__.py\", line 814, in callit\n",
      "    func(*args)\n",
      "  File \"c:\\Users\\admpdi\\Code\\personal\\CMP197\\pid_detect\\.venv\\lib\\site-packages\\matplotlib\\backends\\_backend_tk.py\", line 489, in delayed_destroy\n",
      "    self.window.destroy()\n",
      "  File \"C:\\Users\\admpdi\\Code\\su-visao\\WPy64-3880\\python-3.8.8.amd64\\lib\\tkinter\\__init__.py\", line 2312, in destroy\n",
      "    self.tk.call('destroy', self._w)\n",
      "_tkinter.TclError: can't invoke \"destroy\" command: application has been destroyed\n",
      "Exception in Tkinter callback\n",
      "Traceback (most recent call last):\n",
      "  File \"C:\\Users\\admpdi\\Code\\su-visao\\WPy64-3880\\python-3.8.8.amd64\\lib\\tkinter\\__init__.py\", line 1892, in __call__\n",
      "    return self.func(*args)\n",
      "  File \"C:\\Users\\admpdi\\Code\\su-visao\\WPy64-3880\\python-3.8.8.amd64\\lib\\tkinter\\__init__.py\", line 814, in callit\n",
      "    func(*args)\n",
      "  File \"c:\\Users\\admpdi\\Code\\personal\\CMP197\\pid_detect\\.venv\\lib\\site-packages\\matplotlib\\backends\\_backend_tk.py\", line 489, in delayed_destroy\n",
      "    self.window.destroy()\n",
      "  File \"C:\\Users\\admpdi\\Code\\su-visao\\WPy64-3880\\python-3.8.8.amd64\\lib\\tkinter\\__init__.py\", line 2312, in destroy\n",
      "    self.tk.call('destroy', self._w)\n",
      "_tkinter.TclError: can't invoke \"destroy\" command: application has been destroyed\n"
     ]
    }
   ],
   "source": [
    "df = eval_results(image=im_cleanup, \n",
    "             boxes=detect_symbols(im_cleanup),\n",
    "             feature_func=get_zernike_features,\n",
    "             class_pipeline=pipe)\n",
    "\n",
    "print(df.mean())\n",
    "df.sort_values(by=\"recall\", ascending=False)"
   ]
  },
  {
   "cell_type": "code",
   "execution_count": 61,
   "metadata": {},
   "outputs": [],
   "source": [
    "plt.tight_layout()"
   ]
  },
  {
   "cell_type": "code",
   "execution_count": 73,
   "metadata": {},
   "outputs": [
    {
     "data": {
      "text/plain": [
       "Pipeline(steps=[('classifier', KNeighborsClassifier(metric='hamming'))])"
      ]
     },
     "execution_count": 73,
     "metadata": {},
     "output_type": "execute_result"
    }
   ],
   "source": [
    "pipe = Pipeline([(\"classifier\", sklearn.neighbors.KNeighborsClassifier(n_neighbors=5, metric=\"hamming\"),)])\n",
    "\n",
    "ham_features = lambda x: get_square_thresh(x).ravel()\n",
    "train_x, train_y = load_training_set(feature_func=ham_features)\n",
    "pipe.fit(train_x, train_y)"
   ]
  },
  {
   "cell_type": "code",
   "execution_count": 74,
   "metadata": {},
   "outputs": [],
   "source": [
    "eval_results(image=im_cleanup, \n",
    "             boxes=detect_symbols(im_cleanup),\n",
    "             feature_func=ham_features,\n",
    "             class_pipeline=pipe)"
   ]
  },
  {
   "cell_type": "code",
   "execution_count": null,
   "metadata": {},
   "outputs": [],
   "source": [
    "\n",
    "fig, axs = plt.subplots(1,2, sharex=True, sharey=True)\n",
    "\n",
    "draw = im_cleanup.copy()\n",
    "\n",
    "# Detect\n",
    "# symbol_boxes = detect_symbols(im_cleanup)\n",
    "symbol_boxes = np.stack(data[\"symbols\"][\"box\"])\n",
    "predictions = np.stack(data[\"symbols\"][\"class\"]).astype(int)\n",
    "\n",
    "# Draw results\n",
    "draw_detections(draw, np.stack(symbol_boxes).reshape(-1,2,2), predictions)\n",
    "axs[0].imshow(draw)\n",
    "draw2 = draw_symbols(draw, thickness=8, color=(0,255,0))\n",
    "axs[1].imshow(draw2)"
   ]
  },
  {
   "cell_type": "code",
   "execution_count": null,
   "metadata": {},
   "outputs": [],
   "source": [
    "from mapcalc import calculate_map, calculate_map_range\n",
    "\n",
    "\n",
    "gt_boxes = np.stack(data[\"symbols\"][\"box\"])\n",
    "gt_classes = np.stack(data[\"symbols\"][\"class\"]).astype(int)\n",
    "ground_truth_info={\"boxes\":gt_boxes,\"labels\":gt_classes}\n",
    "pred_info={\"boxes\":symbol_boxes,\"labels\":predictions}#, \"scores\":confidences}\n",
    "\n",
    "# calculate_map_range(ground_truth, predictions, 0.5,0.95,0.05)\n",
    "calculate_map(ground_truth_info, pred_info, 0.5)"
   ]
  },
  {
   "cell_type": "code",
   "execution_count": null,
   "metadata": {},
   "outputs": [],
   "source": []
  }
 ],
 "metadata": {
  "interpreter": {
   "hash": "fb17f30194975d436ca54f734787f2cd57803c4cf524557f9ba5522723f7bb0b"
  },
  "kernelspec": {
   "display_name": "Python 3.8.8 ('.venv': poetry)",
   "language": "python",
   "name": "python3"
  },
  "language_info": {
   "codemirror_mode": {
    "name": "ipython",
    "version": 3
   },
   "file_extension": ".py",
   "mimetype": "text/x-python",
   "name": "python",
   "nbconvert_exporter": "python",
   "pygments_lexer": "ipython3",
   "version": "3.8.8"
  },
  "orig_nbformat": 4
 },
 "nbformat": 4,
 "nbformat_minor": 2
}
