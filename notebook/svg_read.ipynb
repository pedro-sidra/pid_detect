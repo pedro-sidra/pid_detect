{
 "cells": [
  {
   "cell_type": "code",
   "execution_count": null,
   "metadata": {},
   "outputs": [],
   "source": [
    "import numpy as np"
   ]
  },
  {
   "cell_type": "code",
   "execution_count": null,
   "metadata": {},
   "outputs": [],
   "source": [
    "from pdfminer.layout import LAParams, LTTextBox\n",
    "from pdfminer.pdfpage import PDFPage\n",
    "from pdfminer.pdfinterp import PDFResourceManager\n",
    "from pdfminer.pdfinterp import PDFPageInterpreter\n",
    "from pdfminer.converter import PDFPageAggregator\n",
    "\n",
    "fp = open('yourpdf.pdf', 'rb')\n",
    "rsrcmgr = PDFResourceManager()\n",
    "laparams = LAParams()\n",
    "device = PDFPageAggregator(rsrcmgr, laparams=laparams)\n",
    "interpreter = PDFPageInterpreter(rsrcmgr, device)\n",
    "pages = PDFPage.get_pages(fp)\n",
    "\n",
    "for page in pages:\n",
    "    print('Processing next page...')\n",
    "    interpreter.process_page(page)\n",
    "    layout = device.get_result()\n",
    "    for lobj in layout:\n",
    "        if isinstance(lobj, LTTextBox):\n",
    "            x, y, text = lobj.bbox[0], lobj.bbox[3], lobj.get_text()\n",
    "            print('At %r is text: %s' % ((x, y), text))"
   ]
  }
 ],
 "metadata": {
  "interpreter": {
   "hash": "fb17f30194975d436ca54f734787f2cd57803c4cf524557f9ba5522723f7bb0b"
  },
  "kernelspec": {
   "display_name": "Python 3.8.8 ('.venv': poetry)",
   "language": "python",
   "name": "python3"
  },
  "language_info": {
   "name": "python",
   "version": "3.8.8"
  },
  "orig_nbformat": 4
 },
 "nbformat": 4,
 "nbformat_minor": 2
}
