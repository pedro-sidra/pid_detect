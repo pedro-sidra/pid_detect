{
 "cells": [
  {
   "cell_type": "code",
   "execution_count": 1,
   "metadata": {},
   "outputs": [],
   "source": [
    "import numpy as np \n",
    "import matplotlib.pyplot as plt \n",
    "import pytesseract\n",
    "from PIL import Image\n",
    "import cv2\n",
    "import pandas as pd \n",
    "import skimage\n",
    "from pathlib import Path"
   ]
  },
  {
   "cell_type": "markdown",
   "metadata": {},
   "source": [
    "## Dataset paths and loading"
   ]
  },
  {
   "cell_type": "code",
   "execution_count": 2,
   "metadata": {},
   "outputs": [],
   "source": [
    "from common import *"
   ]
  },
  {
   "cell_type": "markdown",
   "metadata": {},
   "source": [
    "## Load image"
   ]
  },
  {
   "cell_type": "code",
   "execution_count": 5,
   "metadata": {},
   "outputs": [],
   "source": [
    "%matplotlib qt"
   ]
  },
  {
   "cell_type": "code",
   "execution_count": 60,
   "metadata": {},
   "outputs": [
    {
     "data": {
      "text/plain": [
       "<matplotlib.image.AxesImage at 0x271eadf2e50>"
      ]
     },
     "execution_count": 60,
     "metadata": {},
     "output_type": "execute_result"
    }
   ],
   "source": [
    "im_path = r\"C:\\Users\\admpdi\\Code\\personal\\CMP197\\pid_detect\\merged\\peids_process-28.png\"\n",
    "\n",
    "im = cv2.imread(im_path)\n",
    "plt.imshow(im)"
   ]
  },
  {
   "cell_type": "markdown",
   "metadata": {},
   "source": [
    "## Text Detection"
   ]
  },
  {
   "cell_type": "code",
   "execution_count": 52,
   "metadata": {},
   "outputs": [],
   "source": [
    "from craft_text_detector import (\n",
    "    load_craftnet_model,\n",
    "    load_refinenet_model,\n",
    "    get_prediction,\n",
    ")\n",
    "\n",
    "# load models\n",
    "refine_net = load_refinenet_model(cuda=True)\n",
    "craft_net = load_craftnet_model(cuda=True)"
   ]
  },
  {
   "cell_type": "code",
   "execution_count": 61,
   "metadata": {},
   "outputs": [
    {
     "name": "stdout",
     "output_type": "stream",
     "text": [
      "Windows: (1024.0, 1024.0)\n",
      "Stride: (512, 512)\n"
     ]
    }
   ],
   "source": [
    "window = np.array(im.shape[:2])\n",
    "n_windows = np.max( np.stack((np.ones((2,)), np.array(im.shape[:2])/1024)) , axis=0)\n",
    "\n",
    "window = window/n_windows\n",
    "wh, ww = window\n",
    "sh, sw = (window/2).astype(int)\n",
    "\n",
    "print(\"Windows:\",(wh, ww))\n",
    "print(\"Stride:\",(sh, sw))"
   ]
  },
  {
   "cell_type": "code",
   "execution_count": 62,
   "metadata": {},
   "outputs": [
    {
     "data": {
      "text/plain": [
       "(5, 8, 1024, 1024)"
      ]
     },
     "execution_count": 62,
     "metadata": {},
     "output_type": "execute_result"
    }
   ],
   "source": [
    "from skimage.util import view_as_windows\n",
    "\n",
    "def windows_to_image(windows_view):\n",
    "    t_blocks = windows_view[::2,::2]\n",
    "    return np.hstack(np.hstack((t_blocks)))\n",
    "\n",
    "gray = cv2.cvtColor(im, cv2.COLOR_BGR2GRAY)\n",
    "t, thresh = cv2.threshold(gray, 0, 255, cv2.THRESH_BINARY_INV | cv2.THRESH_OTSU)\n",
    "t = view_as_windows(thresh, (wh,ww), (sh,sw))\n",
    "\n",
    "offsets = np.zeros((*t.shape[:2],2))\n",
    "for i in range(t.shape[0]):\n",
    "    for j in range(t.shape[1]):\n",
    "        offsets[i,j] = (sw*j, sh*i)\n",
    "\n",
    "# plt.imshow(thresh)\n",
    "# plt.plot(offsets.reshape(-1,2)[:,0],offsets.reshape(-1,2)[:,1],\"rx\")\n",
    "\n",
    "plt.imshow(t[-1,-1])\n",
    "t.shape"
   ]
  },
  {
   "cell_type": "code",
   "execution_count": 63,
   "metadata": {},
   "outputs": [],
   "source": [
    "outputs = []\n",
    "for window in t.reshape(-1,int(wh),int(ww)):\n",
    "    prediction_result = get_prediction(\n",
    "        image=window,\n",
    "        craft_net=craft_net,\n",
    "        refine_net=refine_net,\n",
    "        cuda=True,\n",
    "        poly=False\n",
    "    )\n",
    "    outputs.append(prediction_result)"
   ]
  },
  {
   "cell_type": "code",
   "execution_count": 64,
   "metadata": {},
   "outputs": [
    {
     "data": {
      "text/plain": [
       "<matplotlib.image.AxesImage at 0x271eb024a30>"
      ]
     },
     "execution_count": 64,
     "metadata": {},
     "output_type": "execute_result"
    }
   ],
   "source": [
    "fig, axs = plt.subplots(1,2, sharex=True, sharey=True)\n",
    "# plt.imshow(thresh)\n",
    "draw1 = cv2.cvtColor(thresh,cv2.COLOR_GRAY2RGB)\n",
    "draw2 = cv2.cvtColor(thresh,cv2.COLOR_GRAY2RGB)\n",
    "\n",
    "\n",
    "offs_boxes = []\n",
    "for offs, output in zip(offsets.reshape(-1,2), outputs):\n",
    "    if len(output[\"boxes\"])>0:\n",
    "        boxes = output[\"boxes\"] + offs\n",
    "\n",
    "        offs_boxes.append(boxes)\n",
    "        draw1 = cv2.drawContours(draw1,boxes[...,np.newaxis,:].astype(int),-1, (0,0,0), thickness=-1)\n",
    "        draw2 = cv2.drawContours(draw2,boxes[...,np.newaxis,:].astype(int),-1, (255,0,0), thickness=2)\n",
    "\n",
    "axs[0].imshow(draw1)\n",
    "axs[1].imshow(draw2)"
   ]
  },
  {
   "cell_type": "code",
   "execution_count": 66,
   "metadata": {},
   "outputs": [
    {
     "data": {
      "text/plain": [
       "<matplotlib.image.AxesImage at 0x271fc7cea90>"
      ]
     },
     "execution_count": 66,
     "metadata": {},
     "output_type": "execute_result"
    }
   ],
   "source": [
    "def windows_to_image(windows_view):\n",
    "    t_blocks = windows_view[::2,::2]\n",
    "    return np.hstack(np.hstack((t_blocks)))\n",
    "\n",
    "\n",
    "fig, axs = plt.subplots(1,3, sharex=True, sharey=True)\n",
    "text_heatmaps = np.stack([o[\"heatmaps\"][\"text_score_heatmap\"] for o in outputs])\n",
    "link_heatmaps = np.stack([o[\"heatmaps\"][\"link_score_heatmap\"] for o in outputs])\n",
    "\n",
    "\n",
    "text_heatmaps =windows_to_image(text_heatmaps.reshape((*t.shape[:2], *text_heatmaps.shape[1:])))\n",
    "link_heatmaps =windows_to_image(link_heatmaps.reshape((*t.shape[:2], *link_heatmaps.shape[1:])))\n",
    "\n",
    "axs[0].imshow(cv2.resize(text_heatmaps, im.shape[1::-1]))\n",
    "axs[1].imshow(cv2.resize(link_heatmaps, im.shape[1::-1]))\n",
    "axs[2].imshow(im)"
   ]
  },
  {
   "cell_type": "code",
   "execution_count": 42,
   "metadata": {},
   "outputs": [
    {
     "data": {
      "text/plain": [
       "<matplotlib.image.AxesImage at 0x271a2ead5b0>"
      ]
     },
     "execution_count": 42,
     "metadata": {},
     "output_type": "execute_result"
    }
   ],
   "source": [
    "plt.imshow(outputs[0][\"heatmaps\"][\"link_score_heatmap\"])"
   ]
  },
  {
   "cell_type": "code",
   "execution_count": 31,
   "metadata": {},
   "outputs": [
    {
     "data": {
      "text/plain": [
       "<matplotlib.image.AxesImage at 0x271934a8460>"
      ]
     },
     "execution_count": 31,
     "metadata": {},
     "output_type": "execute_result"
    }
   ],
   "source": [
    "r = np.vstack(offs_boxes)[4, 0::2].astype(int)\n",
    "plt.imshow(thresh[rect_to_slice(r)])"
   ]
  },
  {
   "cell_type": "code",
   "execution_count": 32,
   "metadata": {},
   "outputs": [
    {
     "name": "stdout",
     "output_type": "stream",
     "text": [
      "34\n",
      "(34, 4)\n"
     ]
    }
   ],
   "source": [
    "boxes = np.vstack(offs_boxes)\n",
    "print(len(boxes))\n",
    "boxes_nms = non_max_suppression_fast(boxes[:,0::2].reshape(-1,4), overlapThresh=0.4)\n",
    "print(boxes_nms.shape)"
   ]
  },
  {
   "cell_type": "code",
   "execution_count": 36,
   "metadata": {},
   "outputs": [
    {
     "data": {
      "text/plain": [
       "Text(0.5, 1.0, 'Detected')"
      ]
     },
     "execution_count": 36,
     "metadata": {},
     "output_type": "execute_result"
    }
   ],
   "source": [
    "# for psm in (0, 1, 3, 4, 5, 6, 7, 11, 12, 13):\n",
    "psm = 7\n",
    "draw2 = cv2.cvtColor(thresh,cv2.COLOR_GRAY2RGB)\n",
    "draw3 = cv2.cvtColor(thresh,cv2.COLOR_GRAY2RGB)\n",
    "text_cleanup = thresh.copy()\n",
    "\n",
    "boxes_filtered = []\n",
    "\n",
    "for i, r in enumerate(boxes_nms.reshape(-1,2,2)):\n",
    "    crop = im[rect_to_slice(r, margin=5)]\n",
    "\n",
    "    h, w = crop.shape[:2]\n",
    "\n",
    "    tall = h > 1.3*w\n",
    "    if tall:\n",
    "        crop = cv2.rotate(crop, cv2.ROTATE_90_CLOCKWISE)\n",
    "\n",
    "\n",
    "    try:\n",
    "        text = pytesseract.image_to_string(crop, config=f\"--oem 3 --psm {psm}\")\n",
    "    except pytesseract.TesseractError:\n",
    "        print(\"Oopsie from tesseract\")\n",
    "        break\n",
    "    \n",
    "    if len(text)>0:\n",
    "        alpha_percent = alpha_count(text) / len(text)\n",
    "\n",
    "        if alpha_percent < 0.4 :\n",
    "            ...\n",
    "            draw_rects(draw2, r, (255,0,15), thickness=1)\n",
    "        else:\n",
    "            draw_rects(draw2, r, (255,0,0), thickness=1)\n",
    "            draw_rects(text_cleanup, r, 0, thickness=-1)\n",
    "            boxes_filtered.append(r.flatten())\n",
    "\n",
    "        cv2.putText(draw2, text.strip(), r[0], cv2.FONT_HERSHEY_PLAIN, 1, (0,255,255))\n",
    "\n",
    "\n",
    "plt.imshow(draw2)\n",
    "plt.title(\"Detected\")\n",
    "# axs[1].imshow(text_cleanup)"
   ]
  },
  {
   "cell_type": "code",
   "execution_count": 49,
   "metadata": {},
   "outputs": [],
   "source": [
    "fig.tight_layout()"
   ]
  },
  {
   "cell_type": "code",
   "execution_count": 47,
   "metadata": {},
   "outputs": [
    {
     "name": "stdout",
     "output_type": "stream",
     "text": [
      "precision, recall\n",
      "[0.83 0.93]\n",
      "[0.92 0.93]\n"
     ]
    }
   ],
   "source": [
    "gts = np.stack(data[\"words\"][\"box\"])\n",
    "\n",
    "gts = gts[(np.abs(w[:,0]-w[:,2])>0) & (np.abs(w[:,1]-w[:,3])>0)]\n",
    "\n",
    "print(\"precision, recall\")\n",
    "print(np.round(detection_metrics(boxes_nms,gts, iou_thresh=0.5), 2))\n",
    "print(np.round(detection_metrics(np.stack(boxes_filtered),gts, iou_thresh=0.5),2))"
   ]
  },
  {
   "cell_type": "code",
   "execution_count": 48,
   "metadata": {},
   "outputs": [
    {
     "data": {
      "text/plain": [
       "149"
      ]
     },
     "execution_count": 48,
     "metadata": {},
     "output_type": "execute_result"
    }
   ],
   "source": [
    "w = np.stack(data[\"words\"].box)\n",
    "len(w)"
   ]
  }
 ],
 "metadata": {
  "interpreter": {
   "hash": "9bdb36c0916cc2b5bb5120fd2f5f8f06c9f98738dae7640ccf43c5ae0d8cee13"
  },
  "kernelspec": {
   "display_name": "Python 3.9.12 ('.venv': poetry)",
   "language": "python",
   "name": "python3"
  },
  "language_info": {
   "codemirror_mode": {
    "name": "ipython",
    "version": 3
   },
   "file_extension": ".py",
   "mimetype": "text/x-python",
   "name": "python",
   "nbconvert_exporter": "python",
   "pygments_lexer": "ipython3",
   "version": "3.8.8"
  },
  "orig_nbformat": 4
 },
 "nbformat": 4,
 "nbformat_minor": 2
}
