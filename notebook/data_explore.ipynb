{
 "cells": [
  {
   "cell_type": "code",
   "execution_count": null,
   "metadata": {},
   "outputs": [],
   "source": [
    "import numpy as np \n",
    "import matplotlib.pyplot as plt \n",
    "from PIL import Image\n",
    "import cv2\n",
    "import pandas as pd \n",
    "import skimage\n",
    "from pathlib import Path"
   ]
  },
  {
   "cell_type": "code",
   "execution_count": null,
   "metadata": {},
   "outputs": [],
   "source": [
    "def pltcnt(c, ax=None, **kwargs):\n",
    "    if ax:\n",
    "        ax.plot([p[0][0] for p in c], [ p[0][1] for p in c ], **kwargs)\n",
    "    else:\n",
    "        plt.plot([p[0][0] for p in c], [ p[0][1] for p in c ],**kwargs)"
   ]
  },
  {
   "cell_type": "markdown",
   "metadata": {},
   "source": [
    "# Dataset: Digitize-P&ID"
   ]
  },
  {
   "cell_type": "markdown",
   "metadata": {},
   "source": [
    "Path"
   ]
  },
  {
   "cell_type": "code",
   "execution_count": null,
   "metadata": {},
   "outputs": [],
   "source": [
    "dbpath = Path(\"./DigitizePID_Dataset\")"
   ]
  },
  {
   "cell_type": "markdown",
   "metadata": {},
   "source": [
    "Masks, images, info"
   ]
  },
  {
   "cell_type": "code",
   "execution_count": null,
   "metadata": {},
   "outputs": [],
   "source": [
    "imagepath = dbpath /  \"image_2\"\n",
    "imageformat = \"jpg\"\n",
    "maskpath  = dbpath /  \"mask\"\n",
    "maskformat = \"png\"\n",
    "\n",
    "def im2mask(image):\n",
    "    return maskpath / f\"{image.stem}_mask.{maskformat}\"\n",
    "def mask2im(mask):\n",
    "    return imagepath / f\"{mask.stem}_mask.{imageformat}\"\n",
    "def im2info(image):\n",
    "    dfs = {  }\n",
    "    for file in  (dbpath / image.stem).glob(\"*.npy\"):\n",
    "        data = np.load(str(file), allow_pickle=True)\n",
    "        name = file.stem.split(\"_\")[-1]\n",
    "        dfs[name] = pd.DataFrame(data)\n",
    "    return dfs"
   ]
  },
  {
   "cell_type": "code",
   "execution_count": null,
   "metadata": {},
   "outputs": [],
   "source": [
    "# %matplotlib widget"
   ]
  },
  {
   "cell_type": "code",
   "execution_count": null,
   "metadata": {},
   "outputs": [],
   "source": [
    "%matplotlib tk\n",
    "\n",
    "def draw_rects(img, tp_br_points, color=(255,0,0), **kwargs):\n",
    "    for p1, p2 in tp_br_points:\n",
    "        cv2.rectangle(img, p1, p2, color=color, **kwargs)\n",
    "\n",
    "# for image in imagepath.glob(f\"*.{imageformat}\"):\n",
    "\n",
    "image = imagepath / f\"1.{imageformat}\"\n",
    "\n",
    "im = cv2.imread(str(image))\n",
    "mask = cv2.imread(str(im2mask(image)), cv2.IMREAD_GRAYSCALE)\n",
    "\n",
    "# 375, 250\n",
    "# 5630, 4300\n",
    "roi = (slice(250, 4300), slice(375, 5630))\n",
    "im = im[roi]\n",
    "mask = mask[roi]\n",
    "\n",
    "tr = np.array([375,250])\n",
    "\n",
    "# im \n",
    "contours, hierarchy = cv2.findContours(255*(mask>0).astype(np.uint8), cv2.RETR_TREE, cv2.CHAIN_APPROX_SIMPLE)\n",
    "\n",
    "\n",
    "data = im2info(image)\n",
    "draw = im.copy()\n",
    "\n",
    "# Linetypes\n",
    "solid_lines = np.stack(data[\"lines\"][data[\"lines\"][3] == 'solid'].iloc[:,1]).reshape(-1,2,2) - tr\n",
    "dashed_lines = np.stack(data[\"lines\"][data[\"lines\"][3] == 'dashed'].iloc[:,1]).reshape(-1,2,2) - tr\n",
    "def draw_pipelines(image):\n",
    "    draw = image.copy()\n",
    "    draw = cv2.drawContours(draw, solid_lines, -1, (255, 255, 0), thickness=2)\n",
    "    draw = cv2.drawContours(draw, dashed_lines, -1, (0, 255, 255), thickness=2)\n",
    "    return draw\n",
    "# cnts2 = np.stack(data[\"lines2\"].iloc[:,:3]).reshape(-1,2,2)\n",
    "\n",
    "\n",
    "# \n",
    "cnts2 = data[\"lines2\"].iloc[:,:4].to_numpy().reshape(-1,2,2) - tr\n",
    "draw = cv2.drawContours(draw, cnts2, -1, (0, 255, 255), thickness=2)\n",
    "\n",
    "\n",
    "def draw_symbols(image):\n",
    "    draw = image.copy()\n",
    "    for i, group in data[\"symbols\"].groupby(2):\n",
    "        color = (np.random.rand(3)*255).astype(np.uint8)\n",
    "        symbols = np.stack(group.iloc[:,1]).reshape(-1,2,2) - tr\n",
    "        draw_rects(draw, symbols, color=[int(c) for c in color], thickness=2)\n",
    "    return draw\n",
    "\n",
    "text = np.stack(data[\"words\"].iloc[:,1]).reshape(-1,2,2) - tr\n",
    "def draw_text_boxes(image):\n",
    "    draw = image.copy()\n",
    "    draw_rects(draw, text, color=(255,0,255), thickness=1)\n",
    "    return draw\n",
    "# draw = cv2.drawContours(draw, text, -1, (255, 0, 0), thickness=2)\n",
    "\n",
    "\n",
    "# draw = cv2.drawContours(draw, contours, -1, (255, 0, 0), thickness=2)\n",
    "# draw = cv2.drawContours(draw, symbols, -1, (0, 0, 255), thickness=2)\n",
    "\n",
    "\n",
    "# im = cv2.imread(\"test.jpg\")\n",
    "draw = draw_pipelines(draw)\n",
    "draw = draw_symbols(draw)\n",
    "draw = draw_text_boxes(draw)\n",
    "plt.imshow(draw)\n"
   ]
  },
  {
   "cell_type": "markdown",
   "metadata": {},
   "source": [
    "## Thresh"
   ]
  },
  {
   "cell_type": "code",
   "execution_count": null,
   "metadata": {},
   "outputs": [],
   "source": [
    "gray = np.mean(im,axis=-1).astype(np.uint8)\n",
    "t, thresh = cv2.threshold(gray, 0, 255, cv2.THRESH_BINARY_INV | cv2.THRESH_OTSU)\n",
    "plt.imshow(thresh)"
   ]
  },
  {
   "cell_type": "markdown",
   "metadata": {},
   "source": [
    "## Edges"
   ]
  },
  {
   "cell_type": "code",
   "execution_count": null,
   "metadata": {},
   "outputs": [],
   "source": [
    "dx = cv2.Sobel(gray,cv2.CV_32FC1, 0,1)\n",
    "dy = cv2.Sobel(gray,cv2.CV_32FC1, 1,0)\n",
    "grad = np.sqrt(dx**2+dy**2)\n",
    "\n",
    "fig, axs = plt.subplots(1,2, sharex=True, sharey=True)\n",
    "t, grad_thresh = cv2.threshold((grad*255/grad.max()).astype(np.uint8), 0, 255, cv2.THRESH_BINARY | cv2.THRESH_OTSU)\n",
    "axs[0].imshow(grad_thresh)\n",
    "axs[1].imshow(grad)"
   ]
  },
  {
   "cell_type": "code",
   "execution_count": null,
   "metadata": {},
   "outputs": [],
   "source": [
    "kernel = cv2.getStructuringElement(cv2.MORPH_ELLIPSE, ksize=(7,7))\n",
    "\n",
    "grad = cv2.morphologyEx(thresh, cv2.MORPH_GRADIENT, kernel)\n",
    "plt.imshow(grad)"
   ]
  },
  {
   "cell_type": "code",
   "execution_count": null,
   "metadata": {},
   "outputs": [],
   "source": [
    "fig, axs = plt.subplots(1,2, sharex=True, sharey=True)\n",
    "\n",
    "skel = skimage.morphology.skeletonize(thresh//255, method=\"lee\")\n",
    "axs[0].imshow(skel)\n",
    "axs[1].imshow(thresh)"
   ]
  },
  {
   "cell_type": "code",
   "execution_count": null,
   "metadata": {},
   "outputs": [],
   "source": [
    "contours, hierarchy = cv2.findContours(255-thresh, cv2.RETR_TREE, cv2.CHAIN_APPROX_SIMPLE)\n",
    "\n",
    "plt.imshow(thresh)\n",
    "im2 = np.zeros_like(im)\n",
    "\n",
    "# hierarchy is [next, previous, firstChild, parent]\n",
    "parents = hierarchy[0,:,-1]\n",
    "# draw contours with no parents\n",
    "cv2.drawContours(im2, np.array(contours)[parents==0], -1, color=(255,255,255), thickness=1)\n",
    "for c in contours:\n",
    "    pltcnt(c, color=\"r\")\n",
    "\n",
    "plt.figure()\n",
    "plt.imshow(im2)"
   ]
  },
  {
   "cell_type": "markdown",
   "metadata": {},
   "source": [
    "## Hough circles"
   ]
  },
  {
   "cell_type": "code",
   "execution_count": null,
   "metadata": {},
   "outputs": [],
   "source": [
    "hough_input = skel\n",
    "\n",
    "radii = np.arange(110,125)/2\n",
    "# radii = np.arange(10,20)\n",
    "circles = skimage.transform.hough_circle(hough_input, radii, normalize=False)\n",
    "_, i, j = np.unravel_index(np.argsort(-circles.ravel()),circles.shape)"
   ]
  },
  {
   "cell_type": "code",
   "execution_count": null,
   "metadata": {},
   "outputs": [],
   "source": [
    "accum, cx, cy, rad = skimage.transform.hough_circle_peaks(circles, radii, min_xdistance=np.min(radii).astype(int), min_ydistance=np.min(radii).astype(int))"
   ]
  },
  {
   "cell_type": "code",
   "execution_count": null,
   "metadata": {},
   "outputs": [],
   "source": [
    "fig, axs = plt.subplots(1,2, sharex=True, sharey=True)\n",
    "\n",
    "axs[0].imshow(im, cmap=\"gray\")\n",
    "draw = np.zeros_like(im)\n",
    "\n",
    "# Max diff.\n",
    "lim = accum[np.argmax(np.abs(np.diff(accum)))]\n",
    "\n",
    "fit = accum > lim*0.9\n",
    "\n",
    "for x,y, r, f, a in zip(cx, cy, rad, fit, accum):\n",
    "    # draw =cv2.circle(draw, (int(x),int(y)), int(r), color=(255,0,0))\n",
    "# plt.plot(cx[:50],cy[:50],\"rx\")\n",
    "    a = a/accum.max()\n",
    "    axs[0].add_patch(plt.Circle((x,y), r, color=(a if f else 0,0,a), fill=False, linewidth=a*3))\n",
    "\n",
    "axs[1].imshow(hough_input)"
   ]
  },
  {
   "cell_type": "code",
   "execution_count": null,
   "metadata": {},
   "outputs": [],
   "source": [
    "fig.tight_layout()"
   ]
  },
  {
   "cell_type": "code",
   "execution_count": null,
   "metadata": {},
   "outputs": [],
   "source": [
    "circ_x, circ_y = skimage.draw.circle_perimeter(int(x),int(y),int(r), shape=draw.shape)\n",
    "plt.imshow(im)\n",
    "m = np.zeros_like(im)\n",
    "m[circ_x, circ_y]=(255,0,0)\n",
    "plt.imshow(m)"
   ]
  },
  {
   "cell_type": "code",
   "execution_count": null,
   "metadata": {},
   "outputs": [],
   "source": [
    "plt.plot(accum)\n",
    "plt.plot(np.diff(accum))"
   ]
  },
  {
   "cell_type": "code",
   "execution_count": null,
   "metadata": {},
   "outputs": [],
   "source": [
    "accum"
   ]
  },
  {
   "cell_type": "markdown",
   "metadata": {},
   "source": [
    "# Graph?\n"
   ]
  },
  {
   "cell_type": "code",
   "execution_count": null,
   "metadata": {},
   "outputs": [],
   "source": [
    "contours, hierarchy = cv2.findContours(skel, cv2.RETR_TREE, cv2.CHAIN_APPROX_SIMPLE)\n",
    "\n",
    "im2 = np.zeros_like(im)\n",
    "# hierarchy is [next, previous, firstChild, parent]\n",
    "# draw contours with no parents\n",
    "# cv2.drawContours(im2, contours, -1, color=(255,255,255), thickness=1)\n",
    "plt.imshow(im2)\n",
    "for c in contours:\n",
    "    pltcnt(c)\n",
    "\n",
    "# plt.figure()\n",
    "# plt.imshow(im2)"
   ]
  },
  {
   "cell_type": "code",
   "execution_count": null,
   "metadata": {},
   "outputs": [],
   "source": []
  },
  {
   "cell_type": "markdown",
   "metadata": {},
   "source": [
    "## Morphology hats"
   ]
  },
  {
   "cell_type": "code",
   "execution_count": null,
   "metadata": {},
   "outputs": [],
   "source": [
    "def draw_gt(image):\n",
    "    image = draw_pipelines(image)\n",
    "    image = draw_symbols(image)\n",
    "    image = draw_text_boxes(image)\n",
    "    return image"
   ]
  },
  {
   "cell_type": "code",
   "execution_count": null,
   "metadata": {},
   "outputs": [],
   "source": [
    "fig, axs = plt.subplots(1,2, sharex=True, sharey=True)\n",
    "\n",
    "gray = np.mean(im,axis=-1).astype(np.uint8)\n",
    "t, thresh = cv2.threshold(gray, 0, 255, cv2.THRESH_BINARY_INV | cv2.THRESH_OTSU)\n",
    "skel = skimage.morphology.skeletonize(thresh//255, method=\"lee\")\n",
    "\n",
    "kern = cv2.getStructuringElement(cv2.MORPH_RECT, ksize=(25,25))\n",
    "\n",
    "blackhat = cv2.morphologyEx(skel, cv2.MORPH_BLACKHAT, kern)\n",
    "tophat = cv2.morphologyEx(skel, cv2.MORPH_TOPHAT, kern)\n",
    "\n",
    "draw = draw_symbols(cv2.cvtColor(blackhat*255, cv2.COLOR_GRAY2RGB))\n",
    "\n",
    "axs[0].imshow(skel)\n",
    "axs[1].imshow(draw)"
   ]
  },
  {
   "cell_type": "code",
   "execution_count": null,
   "metadata": {},
   "outputs": [],
   "source": [
    "fig.tight_layout()"
   ]
  }
 ],
 "metadata": {
  "interpreter": {
   "hash": "acacff45b968f76d5da4443dac65a1f427b77a1eab9f0838f1af89880cefd4f7"
  },
  "kernelspec": {
   "display_name": "Python 3.8.8 ('.venv': poetry)",
   "language": "python",
   "name": "python3"
  },
  "language_info": {
   "codemirror_mode": {
    "name": "ipython",
    "version": 3
   },
   "file_extension": ".py",
   "mimetype": "text/x-python",
   "name": "python",
   "nbconvert_exporter": "python",
   "pygments_lexer": "ipython3",
   "version": "3.9.12"
  },
  "orig_nbformat": 4
 },
 "nbformat": 4,
 "nbformat_minor": 2
}
