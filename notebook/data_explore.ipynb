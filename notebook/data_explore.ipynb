{
 "cells": [
  {
   "cell_type": "code",
   "execution_count": 23,
   "metadata": {},
   "outputs": [],
   "source": [
    "import numpy as np \n",
    "import matplotlib.pyplot as plt \n",
    "from PIL import Image\n",
    "import cv2\n",
    "import pandas as pd \n",
    "import skimage\n",
    "from pathlib import Path\n",
    "from common import *"
   ]
  },
  {
   "cell_type": "code",
   "execution_count": 2,
   "metadata": {},
   "outputs": [],
   "source": [
    "def pltcnt(c, ax=None, **kwargs):\n",
    "    if ax:\n",
    "        ax.plot([p[0][0] for p in c], [ p[0][1] for p in c ], **kwargs)\n",
    "    else:\n",
    "        plt.plot([p[0][0] for p in c], [ p[0][1] for p in c ],**kwargs)"
   ]
  },
  {
   "cell_type": "markdown",
   "metadata": {},
   "source": [
    "# Dataset: Digitize-P&ID"
   ]
  },
  {
   "cell_type": "markdown",
   "metadata": {},
   "source": [
    "Path"
   ]
  },
  {
   "cell_type": "code",
   "execution_count": 24,
   "metadata": {},
   "outputs": [],
   "source": [
    "image_id = 2\n",
    "im, data = load_sample(image_id)"
   ]
  },
  {
   "cell_type": "code",
   "execution_count": 3,
   "metadata": {},
   "outputs": [],
   "source": [
    "dbpath = Path(\"../DigitizePID_Dataset\")"
   ]
  },
  {
   "cell_type": "markdown",
   "metadata": {},
   "source": [
    "Masks, images, info"
   ]
  },
  {
   "cell_type": "code",
   "execution_count": 4,
   "metadata": {},
   "outputs": [],
   "source": [
    "imagepath = dbpath /  \"image_2\"\n",
    "imageformat = \"jpg\"\n",
    "maskpath  = dbpath /  \"mask\"\n",
    "maskformat = \"png\"\n",
    "\n",
    "def im2mask(image):\n",
    "    return maskpath / f\"{image.stem}_mask.{maskformat}\"\n",
    "def mask2im(mask):\n",
    "    return imagepath / f\"{mask.stem}.{imageformat}\"\n",
    "def im2info(image):\n",
    "    dfs = {  }\n",
    "    for file in  (dbpath / image.stem).glob(\"*.npy\"):\n",
    "        data = np.load(str(file), allow_pickle=True)\n",
    "        name = file.stem.split(\"_\")[-1]\n",
    "        dfs[name] = pd.DataFrame(data)\n",
    "    return dfs"
   ]
  },
  {
   "cell_type": "code",
   "execution_count": 5,
   "metadata": {},
   "outputs": [
    {
     "data": {
      "text/plain": [
       "<matplotlib.image.AxesImage at 0x23313b8f0a0>"
      ]
     },
     "execution_count": 5,
     "metadata": {},
     "output_type": "execute_result"
    }
   ],
   "source": [
    "%matplotlib tk\n",
    "\n",
    "def draw_rects(img, tl_br_points, color=(255,0,0), **kwargs):\n",
    "    for p1, p2 in tl_br_points:\n",
    "        cv2.rectangle(img, p1, p2, color=color, **kwargs)\n",
    "\n",
    "# for image in imagepath.glob(f\"*.{imageformat}\"):\n",
    "\n",
    "image = imagepath / f\"2.{imageformat}\"\n",
    "\n",
    "im = cv2.imread(str(image))\n",
    "mask = cv2.imread(str(im2mask(image)), cv2.IMREAD_GRAYSCALE)\n",
    "\n",
    "# 375, 250\n",
    "# 5630, 4300\n",
    "roi = (slice(250, 4300), slice(375, 5630))\n",
    "im = im[roi]\n",
    "mask = mask[roi]\n",
    "\n",
    "tr = np.array([375,250])\n",
    "\n",
    "# im \n",
    "contours, hierarchy = cv2.findContours(255*(mask>0).astype(np.uint8), cv2.RETR_TREE, cv2.CHAIN_APPROX_SIMPLE)\n",
    "\n",
    "\n",
    "data = im2info(image)\n",
    "draw = im.copy()\n",
    "\n",
    "# Linetypes\n",
    "solid_lines = np.stack(data[\"lines\"][data[\"lines\"][3] == 'solid'].iloc[:,1]).reshape(-1,2,2) - tr\n",
    "dashed_lines = np.stack(data[\"lines\"][data[\"lines\"][3] == 'dashed'].iloc[:,1]).reshape(-1,2,2) - tr\n",
    "def draw_pipelines(image):\n",
    "    draw = image.copy()\n",
    "    draw = cv2.drawContours(draw, solid_lines, -1, (255, 255, 0), thickness=2)\n",
    "    draw = cv2.drawContours(draw, dashed_lines, -1, (0, 255, 255), thickness=2)\n",
    "    return draw\n",
    "# cnts2 = np.stack(data[\"lines2\"].iloc[:,:3]).reshape(-1,2,2)\n",
    "\n",
    "\n",
    "# \n",
    "cnts2 = data[\"lines2\"].iloc[:,:4].to_numpy().reshape(-1,2,2) - tr\n",
    "draw = cv2.drawContours(draw, cnts2, -1, (0, 255, 255), thickness=2)\n",
    "\n",
    "\n",
    "def draw_symbols(image):\n",
    "    draw = image.copy()\n",
    "    for i, group in data[\"symbols\"].groupby(2):\n",
    "        color = (np.random.rand(3)*255).astype(np.uint8)\n",
    "        symbols = np.stack(group.iloc[:,1]).reshape(-1,2,2) - tr\n",
    "        draw_rects(draw, symbols, color=[int(c) for c in color], thickness=2)\n",
    "    return draw\n",
    "\n",
    "# Input\n",
    "text_boxes = np.stack(data[\"words\"].iloc[:,1]).reshape(-1,2,2) - tr\n",
    "\n",
    "# Sort X and Y coords inside each rect\n",
    "text_boxes = np.sort(text_boxes.reshape(-1,2,2),axis=1)\n",
    "def draw_text_boxes(image, color=(255,0,255), thickness=1):\n",
    "    draw = image.copy()\n",
    "    draw_rects(draw, text_boxes, color=color, thickness=thickness)\n",
    "    return draw\n",
    "# draw = cv2.drawContours(draw, text, -1, (255, 0, 0), thickness=2)\n",
    "\n",
    "\n",
    "# draw = cv2.drawContours(draw, contours, -1, (255, 0, 0), thickness=2)\n",
    "# draw = cv2.drawContours(draw, symbols, -1, (0, 0, 255), thickness=2)\n",
    "\n",
    "\n",
    "# im = cv2.imread(\"test.jpg\")\n",
    "draw = draw_pipelines(draw)\n",
    "draw = draw_symbols(draw)\n",
    "draw = draw_text_boxes(draw)\n",
    "plt.imshow(draw)\n"
   ]
  },
  {
   "cell_type": "markdown",
   "metadata": {},
   "source": [
    "## Thresh"
   ]
  },
  {
   "cell_type": "code",
   "execution_count": 6,
   "metadata": {},
   "outputs": [
    {
     "data": {
      "text/plain": [
       "<matplotlib.image.AxesImage at 0x23313d840a0>"
      ]
     },
     "execution_count": 6,
     "metadata": {},
     "output_type": "execute_result"
    }
   ],
   "source": [
    "gray = np.mean(im,axis=-1).astype(np.uint8)\n",
    "t, thresh = cv2.threshold(gray, 0, 255, cv2.THRESH_BINARY_INV | cv2.THRESH_OTSU)\n",
    "plt.imshow(thresh)"
   ]
  },
  {
   "cell_type": "markdown",
   "metadata": {},
   "source": [
    "## Edges"
   ]
  },
  {
   "cell_type": "code",
   "execution_count": 7,
   "metadata": {},
   "outputs": [
    {
     "data": {
      "text/plain": [
       "<matplotlib.image.AxesImage at 0x233133180a0>"
      ]
     },
     "execution_count": 7,
     "metadata": {},
     "output_type": "execute_result"
    }
   ],
   "source": [
    "dx = cv2.Sobel(gray,cv2.CV_32FC1, 0,1)\n",
    "dy = cv2.Sobel(gray,cv2.CV_32FC1, 1,0)\n",
    "grad = np.sqrt(dx**2+dy**2)\n",
    "\n",
    "fig, axs = plt.subplots(1,2, sharex=True, sharey=True)\n",
    "t, grad_thresh = cv2.threshold((grad*255/grad.max()).astype(np.uint8), 0, 255, cv2.THRESH_BINARY | cv2.THRESH_OTSU)\n",
    "axs[0].imshow(grad_thresh)\n",
    "axs[1].imshow(grad)"
   ]
  },
  {
   "cell_type": "code",
   "execution_count": 8,
   "metadata": {},
   "outputs": [
    {
     "data": {
      "text/plain": [
       "<matplotlib.image.AxesImage at 0x233170415b0>"
      ]
     },
     "execution_count": 8,
     "metadata": {},
     "output_type": "execute_result"
    }
   ],
   "source": [
    "kernel = cv2.getStructuringElement(cv2.MORPH_ELLIPSE, ksize=(7,7))\n",
    "\n",
    "grad = cv2.morphologyEx(thresh, cv2.MORPH_GRADIENT, kernel)\n",
    "plt.imshow(grad)"
   ]
  },
  {
   "cell_type": "code",
   "execution_count": 9,
   "metadata": {},
   "outputs": [
    {
     "data": {
      "text/plain": [
       "<matplotlib.image.AxesImage at 0x23316eb4490>"
      ]
     },
     "execution_count": 9,
     "metadata": {},
     "output_type": "execute_result"
    }
   ],
   "source": [
    "fig, axs = plt.subplots(1,2, sharex=True, sharey=True)\n",
    "\n",
    "skel = skimage.morphology.skeletonize(thresh//255, method=\"lee\")\n",
    "axs[0].imshow(skel)\n",
    "axs[1].imshow(thresh)"
   ]
  },
  {
   "cell_type": "code",
   "execution_count": null,
   "metadata": {},
   "outputs": [],
   "source": [
    "contours, hierarchy = cv2.findContours(255-thresh, cv2.RETR_TREE, cv2.CHAIN_APPROX_SIMPLE)\n",
    "\n",
    "plt.imshow(thresh)\n",
    "im2 = np.zeros_like(im)\n",
    "\n",
    "# hierarchy is [next, previous, firstChild, parent]\n",
    "parents = hierarchy[0,:,-1]\n",
    "# draw contours with no parents\n",
    "cv2.drawContours(im2, np.array(contours)[parents==0], -1, color=(255,255,255), thickness=1)\n",
    "for c in contours:\n",
    "    pltcnt(c, color=\"r\")\n",
    "\n",
    "plt.figure()\n",
    "plt.imshow(im2)"
   ]
  },
  {
   "cell_type": "markdown",
   "metadata": {},
   "source": [
    "## Hough circles"
   ]
  },
  {
   "cell_type": "code",
   "execution_count": 10,
   "metadata": {},
   "outputs": [],
   "source": [
    "piece = (slice(None,None), slice(None,None))\n",
    "hough_input = skel[piece]\n",
    "\n",
    "radii = np.arange(110,125)/2\n",
    "# radii = np.arange(10,20)\n",
    "circles = skimage.transform.hough_circle(hough_input, radii, normalize=False)\n",
    "_, i, j = np.unravel_index(np.argsort(-circles.ravel()),circles.shape)"
   ]
  },
  {
   "cell_type": "code",
   "execution_count": 11,
   "metadata": {},
   "outputs": [],
   "source": [
    "accum, cx, cy, rad = skimage.transform.hough_circle_peaks(circles, radii, min_xdistance=np.min(radii).astype(int), min_ydistance=np.min(radii).astype(int))"
   ]
  },
  {
   "cell_type": "code",
   "execution_count": 29,
   "metadata": {},
   "outputs": [
    {
     "name": "stderr",
     "output_type": "stream",
     "text": [
      "Exception in Tkinter callback\n",
      "Traceback (most recent call last):\n",
      "  File \"C:\\Users\\admpdi\\Code\\su-visao\\WPy64-3880\\python-3.8.8.amd64\\lib\\tkinter\\__init__.py\", line 1892, in __call__\n",
      "    return self.func(*args)\n",
      "  File \"C:\\Users\\admpdi\\Code\\su-visao\\WPy64-3880\\python-3.8.8.amd64\\lib\\tkinter\\__init__.py\", line 814, in callit\n",
      "    func(*args)\n",
      "  File \"c:\\Users\\admpdi\\Code\\personal\\CMP197\\pid_detect\\.venv\\lib\\site-packages\\matplotlib\\backends\\_backend_tk.py\", line 489, in delayed_destroy\n",
      "    self.window.destroy()\n",
      "  File \"C:\\Users\\admpdi\\Code\\su-visao\\WPy64-3880\\python-3.8.8.amd64\\lib\\tkinter\\__init__.py\", line 2312, in destroy\n",
      "    self.tk.call('destroy', self._w)\n",
      "_tkinter.TclError: can't invoke \"destroy\" command: application has been destroyed\n"
     ]
    }
   ],
   "source": [
    "# fig, axs = plt.subplots(1,2, sharex=True, sharey=True)\n",
    "\n",
    "plt.imshow(im[piece], cmap=\"gray\")\n",
    "draw = np.zeros_like(im[piece])\n",
    "\n",
    "# Max diff.\n",
    "lim = accum[1+np.argmax(np.abs(np.diff(accum)))]\n",
    "\n",
    "fit = accum > lim\n",
    "\n",
    "boxes = []\n",
    "for x,y, r, f, a in zip(cx, cy, rad, fit, accum):\n",
    "    # draw =cv2.circle(draw, (int(x),int(y)), int(r), color=(255,0,0))\n",
    "# plt.plot(cx[:50],cy[:50],\"rx\")\n",
    "    a = a/accum.max()\n",
    "    if f:\n",
    "        plt.gca().add_patch(plt.Circle((x,y), r, color=(a if f else 0,0,0), fill=False, linewidth=a*3))\n",
    "        boxes.append([x-r,y-r, x+r,y+r])\n",
    "\n",
    "# plt.imshow(hough_input)\n",
    "plt.title(\"Círculos detectados\")\n",
    "plt.tight_layout()"
   ]
  },
  {
   "cell_type": "code",
   "execution_count": 27,
   "metadata": {},
   "outputs": [
    {
     "data": {
      "text/plain": [
       "(1.0, 1.0)"
      ]
     },
     "execution_count": 27,
     "metadata": {},
     "output_type": "execute_result"
    }
   ],
   "source": [
    "gt_boxes = np.stack(data[\"symbols\"][\"box\"])\n",
    "gt_classes = np.stack(data[\"symbols\"][\"class\"]).astype(int)\n",
    "\n",
    "instrumentation_boxes = [box for i, box in enumerate(gt_boxes) if gt_classes[i] in { 26, 27, 28, 29, 31 } ]\n",
    "\n",
    "detection_metrics(boxes, instrumentation_boxes)"
   ]
  },
  {
   "cell_type": "code",
   "execution_count": 19,
   "metadata": {},
   "outputs": [],
   "source": [
    "plt.tight_layout()"
   ]
  },
  {
   "cell_type": "code",
   "execution_count": null,
   "metadata": {},
   "outputs": [],
   "source": [
    "circ_x, circ_y = skimage.draw.circle_perimeter(int(x),int(y),int(r), shape=draw.shape)\n",
    "plt.imshow(im)\n",
    "m = np.zeros_like(im)\n",
    "m[circ_x, circ_y]=(255,0,0)\n",
    "plt.imshow(m)"
   ]
  },
  {
   "cell_type": "code",
   "execution_count": null,
   "metadata": {},
   "outputs": [],
   "source": [
    "plt.plot(accum)\n",
    "plt.plot(np.diff(accum))"
   ]
  },
  {
   "cell_type": "code",
   "execution_count": null,
   "metadata": {},
   "outputs": [],
   "source": [
    "accum"
   ]
  },
  {
   "cell_type": "markdown",
   "metadata": {},
   "source": [
    "# Graph?\n"
   ]
  },
  {
   "cell_type": "code",
   "execution_count": null,
   "metadata": {},
   "outputs": [],
   "source": [
    "contours, hierarchy = cv2.findContours(skel, cv2.RETR_TREE, cv2.CHAIN_APPROX_SIMPLE)\n",
    "\n",
    "im2 = np.zeros_like(im)\n",
    "# hierarchy is [next, previous, firstChild, parent]\n",
    "# draw contours with no parents\n",
    "# cv2.drawContours(im2, contours, -1, color=(255,255,255), thickness=1)\n",
    "plt.imshow(im2)\n",
    "for c in contours:\n",
    "    pltcnt(c)\n",
    "\n",
    "# plt.figure()\n",
    "# plt.imshow(im2)"
   ]
  },
  {
   "cell_type": "markdown",
   "metadata": {},
   "source": [
    "## Morphology hats"
   ]
  },
  {
   "cell_type": "code",
   "execution_count": null,
   "metadata": {},
   "outputs": [],
   "source": [
    "def draw_gt(image):\n",
    "    image = draw_pipelines(image)\n",
    "    image = draw_symbols(image)\n",
    "    image = draw_text_boxes(image)\n",
    "    return image"
   ]
  },
  {
   "cell_type": "code",
   "execution_count": null,
   "metadata": {},
   "outputs": [],
   "source": [
    "fig, axs = plt.subplots(1,2, sharex=True, sharey=True)\n",
    "\n",
    "gray = np.mean(im,axis=-1).astype(np.uint8)\n",
    "t, thresh = cv2.threshold(gray, 0, 255, cv2.THRESH_BINARY_INV | cv2.THRESH_OTSU)\n",
    "skel = skimage.morphology.skeletonize(thresh//255, method=\"lee\")\n",
    "# skel = thresh\n",
    "\n",
    "kern = cv2.getStructuringElement(cv2.MORPH_RECT, ksize=(25,25))\n",
    "closing_kern = cv2.getStructuringElement(cv2.MORPH_RECT, ksize=(3,3))\n",
    "# kern = cv2.getStructuringElement(cv2.MORPH_RECT, ksize=(5,5))\n",
    "\n",
    "blackhat = cv2.morphologyEx(skel, cv2.MORPH_BLACKHAT, kern)\n",
    "\n",
    "blackhat = cv2.morphologyEx(blackhat, cv2.MORPH_OPEN, closing_kern)\n",
    "blackhat = cv2.morphologyEx(blackhat, cv2.MORPH_CLOSE, closing_kern)\n",
    "# tophat = cv2.morphologyEx(skel, cv2.MORPH_TOPHAT, kern)\n",
    "\n",
    "draw = draw_symbols(cv2.cvtColor(blackhat*255, cv2.COLOR_GRAY2RGB))\n",
    "\n",
    "axs[0].imshow(skel)\n",
    "axs[1].imshow(draw)"
   ]
  },
  {
   "cell_type": "markdown",
   "metadata": {},
   "source": [
    "# Text"
   ]
  },
  {
   "cell_type": "code",
   "execution_count": null,
   "metadata": {},
   "outputs": [],
   "source": [
    "from craft_text_detector import (\n",
    "    load_craftnet_model,\n",
    "    load_refinenet_model,\n",
    "    get_prediction,\n",
    ")\n",
    "\n",
    "# load models\n",
    "refine_net = load_refinenet_model(cuda=False)\n",
    "craft_net = load_craftnet_model(cuda=False)"
   ]
  },
  {
   "cell_type": "code",
   "execution_count": null,
   "metadata": {},
   "outputs": [],
   "source": [
    "window = np.array(im.shape[:2])/5\n",
    "wh, ww = window\n",
    "sh, sw = (window/2).astype(int)"
   ]
  },
  {
   "cell_type": "code",
   "execution_count": null,
   "metadata": {},
   "outputs": [],
   "source": [
    "from skimage.util import view_as_windows\n",
    "# plt.imshow(thresh[:1024,:1024])\n",
    "\n",
    "t = view_as_windows(thresh, (wh,ww), (sh,sw))\n",
    "\n",
    "plt.imshow(t[0,0])\n",
    "t.shape"
   ]
  },
  {
   "cell_type": "code",
   "execution_count": null,
   "metadata": {},
   "outputs": [],
   "source": [
    "outputs = []\n",
    "for window in t.reshape(-1,int(wh),int(ww)):\n",
    "    prediction_result = get_prediction(\n",
    "        image=window,\n",
    "        craft_net=craft_net,\n",
    "        refine_net=refine_net,\n",
    "        cuda=False,\n",
    "        poly=False\n",
    "    )\n",
    "    outputs.append(prediction_result)"
   ]
  },
  {
   "cell_type": "code",
   "execution_count": null,
   "metadata": {},
   "outputs": [],
   "source": [
    "offsets = np.zeros((*t.shape[:2],2))\n",
    "for i in range(t.shape[0]):\n",
    "    for j in range(t.shape[1]):\n",
    "        offsets[i,j] = (sw*j, sh*i)\n",
    "\n",
    "plt.imshow(thresh)\n",
    "plt.plot(offsets.reshape(-1,2)[:,0],offsets.reshape(-1,2)[:,1],\"rx\")"
   ]
  },
  {
   "cell_type": "code",
   "execution_count": null,
   "metadata": {},
   "outputs": [],
   "source": [
    "fig, axs = plt.subplots(1,2, sharex=True, sharey=True)\n",
    "# plt.imshow(thresh)\n",
    "draw1 = cv2.cvtColor(thresh,cv2.COLOR_GRAY2RGB)\n",
    "draw2 = cv2.cvtColor(thresh,cv2.COLOR_GRAY2RGB)\n",
    "\n",
    "\n",
    "offs_boxes = []\n",
    "for offs, output in zip(offsets.reshape(-1,2), outputs):\n",
    "    if len(output[\"boxes\"])>0:\n",
    "        boxes = output[\"boxes\"] + offs\n",
    "\n",
    "        offs_boxes.append(boxes)\n",
    "        draw1 = cv2.drawContours(draw1,boxes[...,np.newaxis,:].astype(np.int),-1, (0,0,0), thickness=-1)\n",
    "        draw2 = cv2.drawContours(draw2,boxes[...,np.newaxis,:].astype(np.int),-1, (255,0,0), thickness=5)\n",
    "\n",
    "axs[0].imshow(draw1)\n",
    "axs[1].imshow(draw2)"
   ]
  },
  {
   "cell_type": "code",
   "execution_count": null,
   "metadata": {},
   "outputs": [],
   "source": [
    "def rect_to_slice(rect_pts, margin=0):\n",
    "    \"\"\"\n",
    "    Convert cv-style rect to numpy-style slice\n",
    "    \"\"\"\n",
    "    (x0, y0), (x1, y1) = rect_pts\n",
    "\n",
    "    return (slice(y0-margin, y1+margin), slice(x0-margin, x1+margin))\n",
    "\n",
    "r = np.vstack(offs_boxes)[4, 0::2].astype(int)\n",
    "plt.imshow(thresh[rect_to_slice(r)])"
   ]
  },
  {
   "cell_type": "code",
   "execution_count": null,
   "metadata": {},
   "outputs": [],
   "source": [
    "import numpy as np\n",
    "# Malisiewicz et al.\n",
    "\n",
    "def non_max_suppression_fast(boxes, overlapThresh):\n",
    "\t# if there are no boxes, return an empty list\n",
    "\tif len(boxes) == 0:\n",
    "\t\treturn []\n",
    "\t# if the bounding boxes integers, convert them to floats --\n",
    "\t# this is important since we'll be doing a bunch of divisions\n",
    "\tif boxes.dtype.kind == \"i\":\n",
    "\t\tboxes = boxes.astype(\"float\")\n",
    "\t# initialize the list of picked indexes\t\n",
    "\tpick = []\n",
    "\t# grab the coordinates of the bounding boxes\n",
    "\tx1 = boxes[:,0]\n",
    "\ty1 = boxes[:,1]\n",
    "\tx2 = boxes[:,2]\n",
    "\ty2 = boxes[:,3]\n",
    "\t# compute the area of the bounding boxes and sort the bounding\n",
    "\t# boxes by the bottom-right y-coordinate of the bounding box\n",
    "\tarea = (x2 - x1 + 1) * (y2 - y1 + 1)\n",
    "\tidxs = np.argsort(y2)\n",
    "\t# keep looping while some indexes still remain in the indexes\n",
    "\t# list\n",
    "\twhile len(idxs) > 0:\n",
    "\t\t# grab the last index in the indexes list and add the\n",
    "\t\t# index value to the list of picked indexes\n",
    "\t\tlast = len(idxs) - 1\n",
    "\t\ti = idxs[last]\n",
    "\t\tpick.append(i)\n",
    "\t\t# find the largest (x, y) coordinates for the start of\n",
    "\t\t# the bounding box and the smallest (x, y) coordinates\n",
    "\t\t# for the end of the bounding box\n",
    "\t\txx1 = np.maximum(x1[i], x1[idxs[:last]])\n",
    "\t\tyy1 = np.maximum(y1[i], y1[idxs[:last]])\n",
    "\t\txx2 = np.minimum(x2[i], x2[idxs[:last]])\n",
    "\t\tyy2 = np.minimum(y2[i], y2[idxs[:last]])\n",
    "\t\t# compute the width and height of the bounding box\n",
    "\t\tw = np.maximum(0, xx2 - xx1 + 1)\n",
    "\t\th = np.maximum(0, yy2 - yy1 + 1)\n",
    "\t\t# compute the ratio of overlap\n",
    "\t\toverlap = (w * h) / area[idxs[:last]]\n",
    "\t\t# delete all indexes from the index list that have\n",
    "\t\tidxs = np.delete(idxs, np.concatenate(([last],\n",
    "\t\t\tnp.where(overlap > overlapThresh)[0])))\n",
    "\t# return only the bounding boxes that were picked using the\n",
    "\t# integer data type\n",
    "\treturn boxes[pick].astype(\"int\")"
   ]
  },
  {
   "cell_type": "code",
   "execution_count": null,
   "metadata": {},
   "outputs": [],
   "source": [
    "boxes = np.vstack(offs_boxes)\n",
    "print(len(boxes))\n",
    "boxes_nms = non_max_suppression_fast(boxes[:,0::2].reshape(-1,4), overlapThresh=0.4)\n",
    "print(boxes_nms.shape)"
   ]
  },
  {
   "cell_type": "markdown",
   "metadata": {},
   "source": [
    "### Text iou"
   ]
  },
  {
   "cell_type": "code",
   "execution_count": null,
   "metadata": {},
   "outputs": [],
   "source": [
    "fig, axs = plt.subplots(2,2, sharex=True, sharey=True)\n",
    "\n",
    "text_mask = np.zeros_like(thresh)\n",
    "\n",
    "gt_text_mask = np.zeros_like(thresh)\n",
    "gt_text_mask = draw_text_boxes(gt_text_mask, color=255, thickness=-1)\n",
    "\n",
    "draw_rects(text_mask, boxes_nms.reshape(-1,2,2), 255, thickness=-1)\n",
    "\n",
    "axs[0,0].imshow(text_mask)\n",
    "axs[0,0].set_title(\"Detected\")\n",
    "axs[0,1].imshow(gt_text_mask)\n",
    "axs[0,1].set_title(\"GT\")\n",
    "\n",
    "intersection=text_mask & gt_text_mask\n",
    "axs[1,0].imshow(intersection)\n",
    "axs[1,0].set_title(\"Intersection\")\n",
    "\n",
    "union=text_mask | gt_text_mask\n",
    "axs[1,1].imshow(union)\n",
    "axs[1,1].set_title(\"Union\")\n",
    "\n",
    "print(\"iou=\")\n",
    "print(np.count_nonzero(intersection)/np.count_nonzero(union))"
   ]
  },
  {
   "cell_type": "code",
   "execution_count": null,
   "metadata": {},
   "outputs": [],
   "source": [
    "from mean_average_precision import MetricBuilder\n",
    "\n",
    "metric = MetricBuilder.build_evaluation_metric(\"map_2d\", async_mode=True, num_classes=1)\n",
    "\n",
    "text = np.stack(data[\"words\"].iloc[:,1]).reshape(-1,2,2) - tr\n",
    "\n",
    "gt = text.reshape(-1,4)\n",
    "\n",
    "# preds = np.hstack((boxes_nms, np.zeros((boxes_nms.shape[0],2))))\n",
    "preds = np.hstack((gt, np.zeros((gt.shape[0],2))))\n",
    "gt = np.hstack((gt, np.zeros((gt.shape[0],3))))\n",
    "\n",
    "metric.add(preds,gt)\n",
    "\n",
    "metric.value(iou_thresholds=0.5)"
   ]
  },
  {
   "cell_type": "code",
   "execution_count": null,
   "metadata": {},
   "outputs": [],
   "source": [
    "from mean_average_precision import \n",
    "\n",
    "# Pred\n",
    "# [xmin, ymin, xmax, ymax, class_id, confidence]\n",
    "\n",
    "preds = np.hstack((boxes_nms, np.zeros((len(boxes_nms),1))))\n",
    "preds = np.hstack((preds, np.ones((len(boxes_nms),1))))\n",
    "\n",
    "# Gt\n",
    "# [xmin, ymin, xmax, ymax, class_id, difficult, crowd]\n",
    "gt = np.hstack((text_boxes.reshape(-1,4), np.zeros((len(text_boxes),3))))\n",
    "\n",
    "# create metric_fn\n",
    "metric_fn = MetricBuilder.build_evaluation_metric(\"map_2d\", async_mode=False, num_classes=1)\n",
    "\n",
    "metric_fn.add(preds,gt)\n",
    "\n",
    "out = metric_fn.value(iou_thresholds=0.5)"
   ]
  },
  {
   "cell_type": "code",
   "execution_count": null,
   "metadata": {},
   "outputs": [],
   "source": [
    "plt.plot(out[0.5][0][\"recall\"],out[0.5][0][\"precision\"])"
   ]
  },
  {
   "cell_type": "code",
   "execution_count": null,
   "metadata": {},
   "outputs": [],
   "source": [
    "from mapcalc import calculate_map, calculate_map_range\n",
    "\n",
    "ground_truth={\"boxes\":text_boxes.reshape(-1,4),\"labels\":np.ones(len(text_boxes))}\n",
    "predictions={\"boxes\":boxes_nms,\"labels\":np.ones(len(boxes_nms)), \"scores\":np.random.rand(len(boxes_nms))}\n",
    "\n",
    "calculate_map_range(ground_truth, predictions, 0.5,0.95,0.05)\n",
    "calculate_map(ground_truth, predictions, 0.5)"
   ]
  },
  {
   "cell_type": "code",
   "execution_count": null,
   "metadata": {},
   "outputs": [],
   "source": [
    "np.any(boxes_nms[:,1]>boxes_nms[:,3])"
   ]
  },
  {
   "cell_type": "code",
   "execution_count": null,
   "metadata": {},
   "outputs": [],
   "source": [
    "sort_boxes = np.sort(text, axis=1)\n",
    "\n",
    "sort_boxes = sort_boxes.reshape(-1,4)\n",
    "\n",
    "print(np.hstack((text_boxes,sort_boxes))[:10])"
   ]
  },
  {
   "cell_type": "code",
   "execution_count": null,
   "metadata": {},
   "outputs": [],
   "source": [
    "text"
   ]
  },
  {
   "cell_type": "markdown",
   "metadata": {},
   "source": [
    "### Read text"
   ]
  },
  {
   "cell_type": "code",
   "execution_count": null,
   "metadata": {},
   "outputs": [],
   "source": [
    "fig, axs = plt.subplots(1,2, sharex=True, sharey=True)\n",
    "# plt.imshow(thresh)\n",
    "draw1 = cv2.cvtColor(thresh,cv2.COLOR_GRAY2RGB)\n",
    "draw2 = cv2.cvtColor(thresh,cv2.COLOR_GRAY2RGB)\n",
    "\n",
    "\n",
    "offs_boxes = []\n",
    "for box in boxes:\n",
    "    draw_rects(draw1, boxes_nms.reshape(-1,2,2), (0,0,0), thickness=-1)\n",
    "    draw_rects(draw2, boxes_nms.reshape(-1,2,2), (255,0,0), thickness=5)\n",
    "\n",
    "axs[0].imshow(draw1)\n",
    "axs[1].imshow(draw2)"
   ]
  },
  {
   "cell_type": "code",
   "execution_count": null,
   "metadata": {},
   "outputs": [],
   "source": [
    "import pytesseract\n",
    "draw2 = cv2.cvtColor(thresh,cv2.COLOR_GRAY2RGB)\n",
    "\n",
    "for i, r in enumerate(boxes_nms.reshape(-1,2,2)):\n",
    "    crop = im[rect_to_slice(r, margin=5)]\n",
    "\n",
    "    h, w = crop.shape[:2]\n",
    "\n",
    "    tall = h > 1.5*w\n",
    "    if tall:\n",
    "        crop = cv2.rotate(crop, cv2.ROTATE_90_CLOCKWISE)\n",
    "\n",
    "\n",
    "    text = pytesseract.image_to_string(crop, config=\"--oem 3 --psm 7\")\n",
    "    \n",
    "    alpha_percent = alpha_count(text) / len(text)\n",
    "\n",
    "    if alpha_percent < 0.5 :\n",
    "        draw_rects(draw2, [r,], (255,0,0), thickness=5)\n",
    "    else:\n",
    "        draw_rects(draw2, [r,], (0,255,0), thickness=5)\n",
    "\n",
    "\n",
    "plt.imshow(draw2)"
   ]
  },
  {
   "cell_type": "code",
   "execution_count": null,
   "metadata": {},
   "outputs": [],
   "source": [
    "# plt.imshow(t[0,0])\n",
    "\n",
    "\n",
    "draw = cv2.cvtColor(t[0,1],cv2.COLOR_GRAY2RGB)\n",
    "boxes= outputs[1][\"boxes\"]\n",
    "draw = cv2.drawContours(draw,boxes[...,np.newaxis,:].astype(np.int),-1, (255,0,0), thickness=5)\n",
    "\n",
    "plt.imshow(draw)"
   ]
  },
  {
   "cell_type": "markdown",
   "metadata": {},
   "source": [
    "### Detection"
   ]
  },
  {
   "cell_type": "code",
   "execution_count": null,
   "metadata": {},
   "outputs": [],
   "source": [
    "fig, axs = plt.subplots(1,2, sharex=True, sharey=True)\n",
    "\n",
    "gray = np.mean(draw1,axis=-1).astype(np.uint8)\n",
    "t, thresh = cv2.threshold(gray, 0, 255, cv2.THRESH_BINARY | cv2.THRESH_OTSU)\n",
    "skel = skimage.morphology.skeletonize(thresh//255, method=\"lee\")\n",
    "# skel = thresh\n",
    "\n",
    "kern = cv2.getStructuringElement(cv2.MORPH_RECT, ksize=(35,35))\n",
    "closing_kern = cv2.getStructuringElement(cv2.MORPH_RECT, ksize=(5,5))\n",
    "# kern = cv2.getStructuringElement(cv2.MORPH_RECT, ksize=(5,5))\n",
    "\n",
    "blackhat = cv2.morphologyEx(skel, cv2.MORPH_BLACKHAT, kern)\n",
    "\n",
    "blackhat = cv2.morphologyEx(blackhat, cv2.MORPH_OPEN, closing_kern)\n",
    "blackhat = cv2.morphologyEx(blackhat, cv2.MORPH_CLOSE, closing_kern, iterations=3)\n",
    "# tophat = cv2.morphologyEx(skel, cv2.MORPH_TOPHAT, kern)\n",
    "\n",
    "draw = draw_symbols(cv2.cvtColor(blackhat*255, cv2.COLOR_GRAY2RGB))\n",
    "\n",
    "axs[0].imshow(skel)\n",
    "axs[1].imshow(draw)"
   ]
  },
  {
   "cell_type": "code",
   "execution_count": null,
   "metadata": {},
   "outputs": [],
   "source": [
    "fig, axs = plt.subplots(1,2, sharex=True, sharey=True)\n",
    "\n",
    "gray = np.mean(draw1,axis=-1).astype(np.uint8)\n",
    "t, thresh = cv2.threshold(gray, 0, 255, cv2.THRESH_BINARY | cv2.THRESH_OTSU)\n",
    "skel = skimage.morphology.skeletonize(thresh//255, method=\"lee\")\n",
    "# skel = thresh\n",
    "\n",
    "kern = cv2.getStructuringElement(cv2.MORPH_RECT, ksize=(35,35))\n",
    "closing_kern = cv2.getStructuringElement(cv2.MORPH_RECT, ksize=(5,5))\n",
    "# kern = cv2.getStructuringElement(cv2.MORPH_RECT, ksize=(5,5))\n",
    "\n",
    "blackhat = cv2.morphologyEx(skel, cv2.MORPH_BLACKHAT, kern)\n",
    "\n",
    "blackhat = cv2.morphologyEx(blackhat, cv2.MORPH_OPEN, closing_kern)\n",
    "blackhat = cv2.morphologyEx(blackhat, cv2.MORPH_CLOSE, closing_kern, iterations=3)\n",
    "\n",
    "blackhat = cv2.morphologyEx(blackhat, cv2.MORPH_DILATE, closing_kern, iterations=2)\n",
    "blackhat = cv2.morphologyEx(blackhat, cv2.MORPH_ERODE, closing_kern, iterations=1)\n",
    "# tophat = cv2.morphologyEx(skel, cv2.MORPH_TOPHAT, kern)\n",
    "\n",
    "draw = draw_symbols(cv2.cvtColor(blackhat*255, cv2.COLOR_GRAY2RGB))\n",
    "\n",
    "axs[0].imshow(skel)\n",
    "axs[1].imshow(draw)"
   ]
  },
  {
   "cell_type": "code",
   "execution_count": null,
   "metadata": {},
   "outputs": [],
   "source": [
    "# im \n",
    "contours, hierarchy = cv2.findContours(blackhat*255, cv2.RETR_TREE, cv2.CHAIN_APPROX_SIMPLE)\n",
    "\n",
    "symbol_boxes = []\n",
    "for c in contours:\n",
    "    if cv2.contourArea(c) > 10:\n",
    "        x,y,w,h =cv2.boundingRect(c)\n",
    "        symbol_boxes.append([x,y,x+w,y+h])\n",
    "\n",
    "draw = im.copy()\n",
    "draw_rects(draw, np.stack(symbol_boxes).reshape(-1,2,2), thickness=8)\n",
    "plt.imshow(draw)"
   ]
  },
  {
   "cell_type": "code",
   "execution_count": null,
   "metadata": {},
   "outputs": [],
   "source": [
    "def detect_symbols(image):\n",
    "\n",
    "    if image.ndim == 3:\n",
    "        gray = np.mean(image,axis=-1).astype(np.uint8)\n",
    "    else:\n",
    "        gray=image\n",
    "\n",
    "    t, thresh = cv2.threshold(gray, 0, 255, cv2.THRESH_BINARY | cv2.THRESH_OTSU)\n",
    "\n",
    "    # Foreground is smaller than 50% of image\n",
    "    if np.count_nonzero(thresh) > thresh.size/2:\n",
    "        thresh = 255-thresh\n",
    "\n",
    "    skel = skimage.morphology.skeletonize(thresh//255, method=\"lee\")\n",
    "\n",
    "    kern = cv2.getStructuringElement(cv2.MORPH_RECT, ksize=(35,35))\n",
    "    closing_kern = cv2.getStructuringElement(cv2.MORPH_RECT, ksize=(5,5))\n",
    "\n",
    "    blackhat = cv2.morphologyEx(skel, cv2.MORPH_BLACKHAT, kern)\n",
    "\n",
    "    blackhat = cv2.morphologyEx(blackhat, cv2.MORPH_OPEN, closing_kern)\n",
    "    blackhat = cv2.morphologyEx(blackhat, cv2.MORPH_CLOSE, closing_kern, iterations=3)\n",
    "\n",
    "    blackhat = cv2.morphologyEx(blackhat, cv2.MORPH_DILATE, closing_kern, iterations=2)\n",
    "    blackhat = cv2.morphologyEx(blackhat, cv2.MORPH_ERODE, closing_kern, iterations=1)\n",
    "\n",
    "    contours, hierarchy = cv2.findContours(blackhat*255, cv2.RETR_TREE, cv2.CHAIN_APPROX_SIMPLE)\n",
    "\n",
    "    symbol_boxes = []\n",
    "    for c in contours:\n",
    "        if cv2.contourArea(c) > 10:\n",
    "            x,y,w,h =cv2.boundingRect(c)\n",
    "            symbol_boxes.append([x,y,x+w,y+h])\n",
    "\n",
    "    return np.stack(symbol_boxes)\n",
    "\n",
    "draw = im.copy()\n",
    "\n",
    "symbol_boxes = detect_symbols(draw1)\n",
    "draw_rects(draw, np.stack(symbol_boxes).reshape(-1,2,2), thickness=8)\n",
    "plt.imshow(draw)"
   ]
  },
  {
   "cell_type": "code",
   "execution_count": null,
   "metadata": {},
   "outputs": [],
   "source": [
    "import mahotas \n",
    "\n",
    "def get_largest_contour(im):\n",
    "    contours, hierarchy = cv2.findContours(im, cv2.RETR_TREE, cv2.CHAIN_APPROX_SIMPLE)\n",
    "    cmax = sorted(contours, key=cv2.contourArea)[-1]\n",
    "    return cmax\n",
    "\n",
    "def zernike_adaptive_centroid(image, degree=8):\n",
    "    c = get_largest_contour(image)\n",
    "    (x,y),r = cv2.minEnclosingCircle(c)\n",
    "    return  mahotas.features.zernike_moments(image, r, degree=degree)"
   ]
  },
  {
   "cell_type": "code",
   "execution_count": null,
   "metadata": {},
   "outputs": [],
   "source": [
    "crops = [ thresh[rect_to_slice(s.reshape(2,2), margin=15)] for s in symbol_boxes] \n",
    "\n",
    "features = [ zernike_adaptive_centroid(crop) for crop in crops]\n",
    "\n",
    "print(np.stack(features))"
   ]
  },
  {
   "cell_type": "code",
   "execution_count": null,
   "metadata": {},
   "outputs": [],
   "source": [
    "import sklearn.cluster\n",
    "\n",
    "# centroid, labels, _ = sklearn.cluster.k_means(np.stack(features), n_clusters=5)\n",
    "b = sklearn.cluster.estimate_bandwidth(np.stack(features))\n",
    "centroid, labels = sklearn.cluster.mean_shift(np.stack(features), bandwidth=b)"
   ]
  },
  {
   "cell_type": "code",
   "execution_count": null,
   "metadata": {},
   "outputs": [],
   "source": [
    "for l in np.unique(labels):\n",
    "    fig,ax = plt.subplots(1, 1+np.count_nonzero(labels==l))\n",
    "    i=0\n",
    "    for label, crop in zip(labels,crops):\n",
    "        if label==l:\n",
    "            ax[i].imshow(crop)\n",
    "            i+=1"
   ]
  },
  {
   "cell_type": "code",
   "execution_count": null,
   "metadata": {},
   "outputs": [],
   "source": []
  }
 ],
 "metadata": {
  "interpreter": {
   "hash": "fb17f30194975d436ca54f734787f2cd57803c4cf524557f9ba5522723f7bb0b"
  },
  "kernelspec": {
   "display_name": "Python 3.8.8 ('.venv': poetry)",
   "language": "python",
   "name": "python3"
  },
  "language_info": {
   "codemirror_mode": {
    "name": "ipython",
    "version": 3
   },
   "file_extension": ".py",
   "mimetype": "text/x-python",
   "name": "python",
   "nbconvert_exporter": "python",
   "pygments_lexer": "ipython3",
   "version": "3.8.8"
  },
  "orig_nbformat": 4
 },
 "nbformat": 4,
 "nbformat_minor": 2
}
